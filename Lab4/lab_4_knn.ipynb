{
  "cells": [
    {
      "cell_type": "markdown",
      "metadata": {
        "id": "DVL7_bgmIAPR"
      },
      "source": [
        "# K-Nearest Neighbor Lab\n",
        "\n",
        "\n",
        "\n"
      ]
    },
    {
      "cell_type": "code",
      "execution_count": 13,
      "metadata": {
        "id": "6ZbYjZZZ_yLV"
      },
      "outputs": [],
      "source": [
        "from sklearn.base import BaseEstimator, ClassifierMixin\n",
        "from sklearn.neighbors import KNeighborsClassifier, KNeighborsRegressor\n",
        "import numpy as np\n",
        "import pip\n",
        "# pip.main([\"install\",\"matplotlib\"])\n",
        "import pandas as pd\n",
        "import matplotlib.pyplot as plt\n",
        "from scipy.io import arff\n",
        "import math\n",
        "from scipy.spatial import distance\n"
      ]
    },
    {
      "cell_type": "markdown",
      "metadata": {
        "id": "sCcEPx5VIORj"
      },
      "source": [
        "## 1. (40%) Correctly implement the k-nearest neighbor (KNN) algorithm and the KNN regression algorithm\n",
        "\n",
        "### Code requirements\n",
        "- Use Euclidean distance to decide closest neighbors. \n",
        "- Include optional distance weighting for both algorithms\n"
      ]
    },
    {
      "cell_type": "code",
      "execution_count": 56,
      "metadata": {
        "id": "_a2KSZ_7AN0G"
      },
      "outputs": [],
      "source": [
        "class KNNClassifier(BaseEstimator,ClassifierMixin):\n",
        "    def __init__(self, columnType=None, pred_type='categoritcal', weight_type='inverse_distance', k_val=3): ## add parameters here\n",
        "        \n",
        "        \"\"\"\n",
        "        Args:\n",
        "            columnType for each column tells you if continues[real] or if nominal[categoritcal].\n",
        "            weight_type: inverse_distance voting or if non distance weighting. Options = [\"no_weight\",\"inverse_distance\"]\n",
        "        \"\"\"\n",
        "        self.pred_type = pred_type #Note This won't be needed until part 5\n",
        "        self.weight_type = weight_type\n",
        "        self.k_val = k_val\n",
        "        self.columnType = columnType\n",
        "\n",
        "    def fit(self, data, labels):\n",
        "        \"\"\" Fit the data; run the algorithm (for this lab really just saves the data :D)\n",
        "        Args:\n",
        "            X (array-like): A 2D numpy array with the training data, excluding targets\n",
        "            y (array-like): A 2D numpy array with the training targets\n",
        "        Returns:\n",
        "            self: this allows this to be chained, e.g. model.fit(X,y).predict(X_test)\n",
        "        \"\"\"\n",
        "        if self.columnType:\n",
        "            self.train_cat = []\n",
        "            self.train_data = []\n",
        "            for i in range(len(self.columnType)):\n",
        "                if self.columnType[i] == 'real':\n",
        "                    self.train_data.append(data[:,i])\n",
        "                else:\n",
        "                    self.train_cat.append(data[:,i])\n",
        "            self.train_cat = np.transpose(self.train_cat)\n",
        "            self.train_data = np.transpose(self.train_data)\n",
        "            self.train_data = np.array(self.train_data).astype(float)\n",
        "            self.train_labels = labels\n",
        "        else:\n",
        "            self.train_data = data\n",
        "            self.train_labels = labels\n",
        "        return self\n",
        "    \n",
        "    def predict(self, data):\n",
        "        \"\"\" Predict all classes for a dataset X\n",
        "        Args:\n",
        "            X (array-like): A 2D numpy array with the training data, excluding targets\n",
        "        Returns:\n",
        "            array, shape (n_samples,)\n",
        "            \n",
        "                Predicted target values per element in X.\n",
        "        \"\"\"\n",
        "        preds = []\n",
        "        if self.columnType:\n",
        "            test_cat = []\n",
        "            test_real = []\n",
        "            for i in range(len(self.columnType)):\n",
        "                if self.columnType[i] == 'real':\n",
        "                    test_real.append(data[:,i])\n",
        "                else:\n",
        "                    test_cat.append(data[:,i])\n",
        "            test_cat = np.transpose(test_cat)\n",
        "            test_real = np.transpose(test_real)\n",
        "            test_real = np.array(test_real).astype(float)\n",
        "            # handle real\n",
        "            dist_arr = []\n",
        "            for i in range(len(data)):\n",
        "                dist_arr = np.linalg.norm(test_real[i] - self.train_data, axis=1)\n",
        "                for j in range(len(test_cat[i])):\n",
        "                    if test_cat[i][j] != self.train_cat[i][j]:\n",
        "                        dist_arr[i] += 0.5\n",
        "                sorted_dist = np.argsort(dist_arr)\n",
        "                k_nearest = [[math.inf, 0] for x in range(self.k_val)]\n",
        "                for k in range(self.k_val):\n",
        "                    dist = dist_arr[sorted_dist[k]]\n",
        "                    lbl = self.train_labels[sorted_dist[k]]\n",
        "                    add = [dist, lbl]\n",
        "                    k_nearest[k] = add\n",
        "                preds.append(self.predict_output(k_nearest))\n",
        "\n",
        "        else:\n",
        "            preds = self.predict_real(data)\n",
        "            \n",
        "        return preds\n",
        "    \n",
        "    def predict_real(self, data):\n",
        "        preds = []  \n",
        "        for i in range(len(data)):\n",
        "            dist_arr = np.linalg.norm(data[i] - self.train_data, axis=1)\n",
        "            sorted_dist = np.argsort(dist_arr)\n",
        "            k_nearest = [[math.inf, 0] for x in range(self.k_val)]\n",
        "            for k in range(self.k_val):\n",
        "                dist = dist_arr[sorted_dist[k]]\n",
        "                lbl = self.train_labels[sorted_dist[k]]\n",
        "                add = [dist, lbl]\n",
        "                k_nearest[k] = add\n",
        "            preds.append(self.predict_output(k_nearest))\n",
        "        return preds\n",
        "\n",
        "\n",
        "    def predict_output(self, k_near):\n",
        "        # if predict val is real, do regression\n",
        "        if self.pred_type == 'real':\n",
        "            # return the mean of the regression labels\n",
        "            if self.weight_type != 'inverse_distance':\n",
        "                label_sum=0\n",
        "                for i in range(len(k_near)):\n",
        "                    label_sum+=k_near[i][1]\n",
        "                return label_sum/len(k_near)\n",
        "            # use the sum equation\n",
        "            else:\n",
        "                numerator = 0\n",
        "                denominator = 0\n",
        "                for i in range(len(k_near)):\n",
        "                    numerator+=(k_near[i][1]/(k_near[i][0]**2))\n",
        "                    denominator+=(1/(k_near[i][0]**2))\n",
        "                return numerator/denominator\n",
        "        # categorical predicting values\n",
        "        else:\n",
        "            votes = {}\n",
        "            for i in range(len(k_near)):\n",
        "                label = k_near[i][1]\n",
        "                dist =  k_near[i][0]\n",
        "                # if label is already in our dict\n",
        "                if label in votes:\n",
        "                    #inverse distance calculation\n",
        "                    if self.weight_type == 'inverse_distance':\n",
        "                        inv_dist = 1/dist**2\n",
        "                        votes[label] += inv_dist\n",
        "                    else:\n",
        "                        votes[label] += 1\n",
        "                # add label to our dict\n",
        "                else:\n",
        "                    #inverse distance calculation\n",
        "                    if self.weight_type == 'inverse_distance':\n",
        "                        inv_dist = 1/dist**2\n",
        "                        votes[label] = inv_dist\n",
        "                    else:\n",
        "                        votes[label] = 1\n",
        "            # choose the winner\n",
        "            max_val = 0\n",
        "            label = ''\n",
        "            for key, value in votes.items():\n",
        "                if value > max_val or max_val == 0:\n",
        "                    label = key\n",
        "                    max_val = value\n",
        "                # tie\n",
        "                elif value == max_val:\n",
        "                    label = min(key, label)\n",
        "                    max_val = value = votes[label]\n",
        "\n",
        "        return label\n",
        "\n",
        "    #Returns the Mean score given input data and labels\n",
        "    def score(self, X, y):\n",
        "        \"\"\" Return accuracy of model on a given dataset. Must implement own score function.\n",
        "        Args:\n",
        "            X (array-like): A 2D numpy array with data, excluding targets\n",
        "            y (array-like): A 2D numpy array with targets\n",
        "        Returns:\n",
        "            score : float\n",
        "                Mean accuracy of self.predict(X) wrt. y.\n",
        "        \"\"\"\n",
        "        predictions = self.predict(X)\n",
        "        # return MSE\n",
        "        if self.pred_type == 'real':\n",
        "            sum_err = 0\n",
        "            for idx, pred in enumerate(predictions):\n",
        "                err = ((y[idx] - pred)**2)\n",
        "                sum_err += err\n",
        "            return sum_err/len(X)\n",
        "        # return percent correct\n",
        "        else:\n",
        "            correct = 0\n",
        "            for i, pred in enumerate(predictions):\n",
        "                if pred == y[i]:\n",
        "                    correct +=1\n",
        "            return correct/len(X)\n",
        "    "
      ]
    },
    {
      "cell_type": "markdown",
      "metadata": {
        "id": "fEDzK14Wpj8H"
      },
      "source": [
        "## 1.1 Debug and Evaluation\n",
        "\n",
        "Debug and Evaluate your model using the parameters below:\n",
        "\n",
        "- Use distance weighting\n",
        "- KNN = 3 (three nearest neighbors)\n",
        "- Don’t normalize the data\n",
        "- Use Euclidean Distance\n",
        "\n",
        "---\n",
        "\n",
        "### 1.1.1 Debug\n",
        "\n",
        "- Use this [training set](https://raw.githubusercontent.com/cs472ta/CS472/master/datasets/glass_train.arff) and this [test set](https://raw.githubusercontent.com/cs472ta/CS472/master/datasets/glass_test.arff)\n",
        "- Use distance weighting\n",
        "- KNN = 3 (three nearest neighbors)\n",
        "- Don’t normalize the data\n",
        "- Use Euclidean Distance\n",
        "\n",
        "Expected Results:\n",
        "- Not using inverse weighted distancing = roughly [68.29%]\n",
        "- Link to [debug solution](https://github.com/cs472ta/CS472/blob/master/debug_solutions/glass_no_inv_predictions.txt)\n",
        "\n",
        "- Using inverse weighted distancing = roughly [74.39%]\n",
        "- Link to [debug solution](https://github.com/cs472ta/CS472/blob/master/debug_solutions/glass_inv_predictions.txt)\n"
      ]
    },
    {
      "cell_type": "code",
      "execution_count": 57,
      "metadata": {},
      "outputs": [],
      "source": [
        "def convertBytestoString(df):\n",
        "  for col in df:\n",
        "    if isinstance(df[col][0], bytes):\n",
        "      df[col] = df[col].str.decode(\"utf8\")\n",
        "  return df"
      ]
    },
    {
      "cell_type": "code",
      "execution_count": 58,
      "metadata": {
        "id": "F6CAyEJopj8I"
      },
      "outputs": [
        {
          "name": "stdout",
          "output_type": "stream",
          "text": [
            "acc not using weighted distancing:  0.6829268292682927\n",
            "acc using weighted distancing:  0.7439024390243902\n"
          ]
        }
      ],
      "source": [
        "# Load glass data\n",
        "!curl -s https://raw.githubusercontent.com/cs472ta/CS472/master/datasets/glass_train.arff --output debug.arff\n",
        "# Train on training set\n",
        "debug_data = arff.loadarff('debug.arff')\n",
        "debug_df = convertBytestoString(pd.DataFrame(debug_data[0]))\n",
        "debug_np = np.array(debug_df)\n",
        "clf = KNNClassifier(weight_type='no_weight')\n",
        "train =  np.array(debug_np[:,0:-1]).astype(float)\n",
        "targets = debug_np[:,-1]\n",
        "res = clf.fit(train, targets)\n",
        "\n",
        "\n",
        "# Predict on test set\n",
        "!curl -s https://raw.githubusercontent.com/cs472ta/CS472/master/datasets/glass_test.arff --output debug_test.arff\n",
        "debug_test = arff.loadarff('debug_test.arff')\n",
        "debug_test_df = convertBytestoString(pd.DataFrame(debug_test[0]))\n",
        "debug_test_np = np.array(debug_test_df)\n",
        "debug_test_inputs = np.array(debug_test_np[:,0:-1]).astype(float)\n",
        "debug_test_targets = debug_test_np[:,-1]\n",
        "acc = res.score(debug_test_inputs, debug_test_targets)\n",
        "print('acc not using weighted distancing: ', acc)\n",
        "\n",
        "# using inverse weighted distancing\n",
        "clf = KNNClassifier(weight_type='inverse_distance')\n",
        "id_res = clf.fit(train, targets)\n",
        "id_acc = id_res.score(debug_test_inputs, debug_test_targets)\n",
        "print('acc using weighted distancing: ', id_acc)\n",
        "\n"
      ]
    },
    {
      "cell_type": "markdown",
      "metadata": {
        "id": "gxbxlFzjpj8I"
      },
      "source": [
        "### 1.1.2 Evaluate\n",
        "\n",
        "We will evaluate your model based on its performance on the [diabetes](https://archive.ics.uci.edu/ml/datasets/Diabetes) problem.\n",
        "- Use this [training set](https://raw.githubusercontent.com/cs472ta/CS472/master/datasets/diabetes_train.arff) and this [test set](https://raw.githubusercontent.com/cs472ta/CS472/master/datasets/diabetes_test.arff)"
      ]
    },
    {
      "cell_type": "code",
      "execution_count": 59,
      "metadata": {
        "id": "ZydqKufipj8J"
      },
      "outputs": [
        {
          "name": "stdout",
          "output_type": "stream",
          "text": [
            "acc not using weighted distancing:  0.8411458333333334\n"
          ]
        }
      ],
      "source": [
        "# Load diabetes data\n",
        "!curl -s https://raw.githubusercontent.com/cs472ta/CS472/master/datasets/diabetes_train.arff --output diab.arff\n",
        "# Train on training set\n",
        "diab = arff.loadarff('diab.arff')\n",
        "diab_df = convertBytestoString(pd.DataFrame(diab[0]))\n",
        "diab_np = np.array(diab_df)\n",
        "clf = KNNClassifier(weight_type='no_weight')\n",
        "diab_inputs =  np.array(diab_np[:,0:-1]).astype(float)\n",
        "diab_targets = diab_np[:,-1]\n",
        "res = clf.fit(diab_inputs, diab_targets)\n",
        "\n",
        "\n",
        "# Predict on test set\n",
        "!curl -s https://raw.githubusercontent.com/cs472ta/CS472/master/datasets/diabetes_test.arff --output diab_test.arff\n",
        "diab_test = arff.loadarff('diab_test.arff')\n",
        "diab_test_df = convertBytestoString(pd.DataFrame(diab_test[0]))\n",
        "diab_test_np = np.array(diab_test_df)\n",
        "diab_test_inputs = np.array(diab_test_np[:,0:-1]).astype(float)\n",
        "diab_test_targets = diab_test_np[:,-1]\n",
        "acc = res.score(diab_test_inputs, diab_test_targets)\n",
        "print('acc not using weighted distancing: ', acc)\n"
      ]
    },
    {
      "cell_type": "code",
      "execution_count": 60,
      "metadata": {},
      "outputs": [],
      "source": [
        "def normalize_vals(inputs):\n",
        "  xmin = inputs.min(axis=0)\n",
        "  xmax = inputs.max(axis=0)\n",
        "  return (inputs-xmin)/(xmax-xmin)"
      ]
    },
    {
      "cell_type": "markdown",
      "metadata": {
        "id": "9vWiTdlbR2Xh"
      },
      "source": [
        "## 2. (10%) Use the k-nearest neighbor algorithm (without distance weighting) for the [magic telescope](http://archive.ics.uci.edu/ml/datasets/MAGIC+Gamma+Telescope) problem\n",
        "\n",
        "- Use this [training set](https://raw.githubusercontent.com/cs472ta/CS472/master/datasets/magic_telescope_train.arff) and this [test set](https://raw.githubusercontent.com/cs472ta/CS472/master/datasets/magic_telescope_test.arff) \n",
        "\n",
        "### 2.1\n",
        "- Try it with k=3 and without normalization\n"
      ]
    },
    {
      "cell_type": "code",
      "execution_count": 61,
      "metadata": {
        "id": "4SSoasDQSKXb"
      },
      "outputs": [
        {
          "name": "stdout",
          "output_type": "stream",
          "text": [
            "acc not using weighted distancing:  0.8082808280828083\n"
          ]
        }
      ],
      "source": [
        "# Load magic telescope data\n",
        "!curl -s https://raw.githubusercontent.com/cs472ta/CS472/master/datasets/magic_telescope_train.arff --output tel.arff\n",
        "# Train on training set\n",
        "tel = arff.loadarff('tel.arff')\n",
        "tel_df = convertBytestoString(pd.DataFrame(tel[0]))\n",
        "tel_np = np.array(tel_df)\n",
        "\n",
        "# Train/Predict without normalization\n",
        "clf = KNNClassifier(weight_type='no_weight')\n",
        "tel_inputs = np.array(tel_np[:,0:-1]).astype(float)\n",
        "tel_targets = np.array(tel_np[:,-1])\n",
        "res = clf.fit(tel_inputs, tel_targets)\n",
        "\n",
        "# Predict on test set\n",
        "!curl -s https://raw.githubusercontent.com/cs472ta/CS472/master/datasets/magic_telescope_test.arff --output tel_test.arff\n",
        "tel_test = arff.loadarff('tel_test.arff')\n",
        "tel_test_df = convertBytestoString(pd.DataFrame(tel_test[0]))\n",
        "tel_test_np = np.array(tel_test_df)\n",
        "tel_test_inputs = np.array(tel_test_np[:,0:-1]).astype(float)\n",
        "tel_test_targets = tel_test_np[:,-1]\n",
        "acc = res.score(tel_test_inputs, tel_test_targets)\n",
        "print('acc not using weighted distancing: ', acc)\n",
        "\n"
      ]
    },
    {
      "cell_type": "markdown",
      "metadata": {
        "id": "HDankjHLpj8L"
      },
      "source": [
        "### 2.2\n",
        "- Try it with k=3 and with normalization (input features normalized between 0 and 1). Use the normalization formula (x-xmin)/(xmax-xmin)"
      ]
    },
    {
      "cell_type": "code",
      "execution_count": 62,
      "metadata": {
        "id": "EAb2ot8qpj8L"
      },
      "outputs": [
        {
          "name": "stdout",
          "output_type": "stream",
          "text": [
            "acc normalizing input features:  0.8157815781578158\n"
          ]
        }
      ],
      "source": [
        "# Train/Predict with normalization\n",
        "tel_norm_inputs = normalize_vals(tel_inputs)\n",
        "tel_norm_test_inputs = normalize_vals(tel_test_inputs)\n",
        "# Train/Predict without normalization\n",
        "res = clf.fit(tel_norm_inputs, tel_targets)\n",
        "\n",
        "# Predict on test set\n",
        "acc = res.score(tel_norm_test_inputs, tel_test_targets)\n",
        "print('acc normalizing input features: ', acc)"
      ]
    },
    {
      "cell_type": "markdown",
      "metadata": {
        "id": "WI0BWb9epj8M"
      },
      "source": [
        "*Discuss the accuracy results of using normalized data vs. unnormalized data*"
      ]
    },
    {
      "cell_type": "markdown",
      "metadata": {
        "id": "l_yormHgpj8N"
      },
      "source": [
        "### 2.3\n",
        "\n",
        "- Using your normalized data, create one graph with classification accuracy on the test set over k values. \n",
        "    - Use odd values of k from 1 to 15.\n",
        "- As a rough sanity check, typical knn accuracies for the magic telescope data set are 75-85%"
      ]
    },
    {
      "cell_type": "code",
      "execution_count": 63,
      "metadata": {
        "id": "v3PBKAmepj8N"
      },
      "outputs": [
        {
          "data": {
            "image/png": "[encoded data removed]",
            "text/plain": [
              "<Figure size 432x288 with 1 Axes>"
            ]
          },
          "metadata": {
            "needs_background": "light"
          },
          "output_type": "display_data"
        },
        {
          "name": "stdout",
          "output_type": "stream",
          "text": [
            "[0.7874287428742874, 0.8157815781578158, 0.8271827182718272, 0.8294329432943295, 0.8282328232823283, 0.8294329432943295, 0.8297329732973298, 0.8304830483048304]\n"
          ]
        }
      ],
      "source": [
        "# Train/Predict with normalization using k=1,3,...,15\n",
        "k_class_acc = []\n",
        "x_v = []\n",
        "for i in range(1, 17, 2):\n",
        "  x_v.append(i)\n",
        "  clf = KNNClassifier(weight_type='no_weight', k_val=i)\n",
        "  res = clf.fit(tel_norm_inputs, tel_targets)\n",
        "  k_class_acc.append(res.score(tel_norm_test_inputs, tel_test_targets))\n",
        "\n",
        "# Graph classification accuracy over k\n",
        "plt.plot(x_v, k_class_acc)\n",
        "plt.title(\"Magic Telescope Train/Pred odd k 1-15\")\n",
        "plt.xlabel(\"K value\")\n",
        "plt.ylabel(\"Class. Accuracy\")\n",
        "plt.show()\n",
        "print(k_class_acc)"
      ]
    },
    {
      "cell_type": "markdown",
      "metadata": {
        "id": "HcuWW3gWpj8O"
      },
      "source": [
        "# For the rest of the experiments use only normalized data"
      ]
    },
    {
      "cell_type": "markdown",
      "metadata": {
        "id": "SIRG42TgSR4x"
      },
      "source": [
        "## 3. (10%) Use the regression variation of your algorithm (without distance weighting) for the [housing price prediction](https://www.cs.toronto.edu/~delve/data/boston/bostonDetail.html) problem.\n",
        "\n",
        "- Use this [training set](https://raw.githubusercontent.com/cs472ta/CS472/master/datasets/housing_train.arff) and this [test set](https://raw.githubusercontent.com/cs472ta/CS472/master/datasets/housing_test.arff).\n",
        "- Use Mean Square Error (MSE) on the test set as your accuracy metric for this case.\n",
        "    - Do not normalize regression output values\n",
        "- Graph MSE on the test set with odd values of k from 1 to 15\n"
      ]
    },
    {
      "cell_type": "code",
      "execution_count": 7,
      "metadata": {
        "id": "KBGUn43ASiXW"
      },
      "outputs": [
        {
          "ename": "NameError",
          "evalue": "name 'normalize_vals' is not defined",
          "output_type": "error",
          "traceback": [
            "\u001b[0;31m---------------------------------------------------------------------------\u001b[0m",
            "\u001b[0;31mNameError\u001b[0m                                 Traceback (most recent call last)",
            "\u001b[0;32m/var/folders/y9/rp3lsyjd533_jp_d_rbnbl9r0000gn/T/ipykernel_29675/1874532590.py\u001b[0m in \u001b[0;36m<module>\u001b[0;34m\u001b[0m\n\u001b[1;32m      5\u001b[0m \u001b[0mhousing_np\u001b[0m \u001b[0;34m=\u001b[0m \u001b[0mnp\u001b[0m\u001b[0;34m.\u001b[0m\u001b[0marray\u001b[0m\u001b[0;34m(\u001b[0m\u001b[0mhousing_df\u001b[0m\u001b[0;34m)\u001b[0m\u001b[0;34m.\u001b[0m\u001b[0mastype\u001b[0m\u001b[0;34m(\u001b[0m\u001b[0mfloat\u001b[0m\u001b[0;34m)\u001b[0m\u001b[0;34m\u001b[0m\u001b[0;34m\u001b[0m\u001b[0m\n\u001b[1;32m      6\u001b[0m \u001b[0;31m# normalize values\u001b[0m\u001b[0;34m\u001b[0m\u001b[0;34m\u001b[0m\u001b[0;34m\u001b[0m\u001b[0m\n\u001b[0;32m----> 7\u001b[0;31m \u001b[0mnorm_inputs\u001b[0m \u001b[0;34m=\u001b[0m \u001b[0mnormalize_vals\u001b[0m\u001b[0;34m(\u001b[0m\u001b[0mhousing_np\u001b[0m\u001b[0;34m[\u001b[0m\u001b[0;34m:\u001b[0m\u001b[0;34m,\u001b[0m\u001b[0;36m0\u001b[0m\u001b[0;34m:\u001b[0m\u001b[0;34m-\u001b[0m\u001b[0;36m1\u001b[0m\u001b[0;34m]\u001b[0m\u001b[0;34m)\u001b[0m\u001b[0;34m\u001b[0m\u001b[0;34m\u001b[0m\u001b[0m\n\u001b[0m\u001b[1;32m      8\u001b[0m \u001b[0mhousing_norm_inputs\u001b[0m \u001b[0;34m=\u001b[0m \u001b[0mnp\u001b[0m\u001b[0;34m.\u001b[0m\u001b[0marray\u001b[0m\u001b[0;34m(\u001b[0m\u001b[0mnorm_inputs\u001b[0m\u001b[0;34m)\u001b[0m\u001b[0;34m\u001b[0m\u001b[0;34m\u001b[0m\u001b[0m\n\u001b[1;32m      9\u001b[0m \u001b[0mhousing_targets\u001b[0m \u001b[0;34m=\u001b[0m \u001b[0mnp\u001b[0m\u001b[0;34m.\u001b[0m\u001b[0marray\u001b[0m\u001b[0;34m(\u001b[0m\u001b[0mhousing_np\u001b[0m\u001b[0;34m[\u001b[0m\u001b[0;34m:\u001b[0m\u001b[0;34m,\u001b[0m\u001b[0;34m-\u001b[0m\u001b[0;36m1\u001b[0m\u001b[0;34m]\u001b[0m\u001b[0;34m)\u001b[0m\u001b[0;34m\u001b[0m\u001b[0;34m\u001b[0m\u001b[0m\n",
            "\u001b[0;31mNameError\u001b[0m: name 'normalize_vals' is not defined"
          ]
        }
      ],
      "source": [
        "# Load housing price prediction data\n",
        "!curl -s https://raw.githubusercontent.com/cs472ta/CS472/master/datasets/housing_train.arff --output housing.arff\n",
        "housing = arff.loadarff('housing.arff')\n",
        "housing_df = convertBytestoString(pd.DataFrame(housing[0]))\n",
        "housing_np = np.array(housing_df).astype(float)\n",
        "# normalize values\n",
        "norm_inputs = normalize_vals(housing_np[:,0:-1])\n",
        "housing_norm_inputs = np.array(norm_inputs)\n",
        "housing_targets = np.array(housing_np[:,-1])\n",
        "\n",
        "\n",
        "!curl -s https://raw.githubusercontent.com/cs472ta/CS472/master/datasets/housing_test.arff --output housing_test.arff\n",
        "housing_test = arff.loadarff('housing_test.arff')\n",
        "housing_test_df = convertBytestoString(pd.DataFrame(housing_test[0]))\n",
        "housing_test_np = np.array(housing_test_df).astype(float)\n",
        "# normalize values\n",
        "norm_test_inputs = normalize_vals(housing_test_np[:,0:-1])\n",
        "housing_norm_test_inputs = np.array(norm_test_inputs)\n",
        "housing_test_targets = np.array(housing_test_np[:,-1])\n",
        "\n",
        "\n",
        "# Train/Predict using k=1,3,...,15\n",
        "k_MSE = []\n",
        "x_v = []\n",
        "for i in range(1, 17, 2):\n",
        "  x_v.append(i)\n",
        "  clf = KNNClassifier(pred_type='real', weight_type='no_weight', k_val=i)\n",
        "  res = clf.fit(housing_norm_inputs, housing_targets)\n",
        "  k_MSE.append(res.score(housing_norm_test_inputs, housing_test_targets))\n",
        "\n",
        "# Graph MSE over k\n",
        "plt.plot(x_v, k_MSE)\n",
        "plt.title(\"Housing Train/Pred odd k 1-15\")\n",
        "plt.xlabel(\"K value\")\n",
        "plt.ylabel(\"MSE\")\n",
        "plt.show()\n",
        "print(k_MSE)\n"
      ]
    },
    {
      "cell_type": "markdown",
      "metadata": {
        "id": "v19fpixqTe-7"
      },
      "source": [
        "## 4. (15%) Repeat your experiments for magic telescope and housing using distance-weighted (inverse of distance squared) voting and discuss your results.\n"
      ]
    },
    {
      "cell_type": "markdown",
      "metadata": {
        "id": "KkuX9RPEpj8P"
      },
      "source": [
        "## 4.1 Magic Telescope Dataset"
      ]
    },
    {
      "cell_type": "code",
      "execution_count": 52,
      "metadata": {
        "id": "ZCPFUAGTS2sX"
      },
      "outputs": [
        {
          "data": {
            "image/png": "[encoded data removed]",
            "text/plain": [
              "<Figure size 432x288 with 1 Axes>"
            ]
          },
          "metadata": {
            "needs_background": "light"
          },
          "output_type": "display_data"
        },
        {
          "name": "stdout",
          "output_type": "stream",
          "text": [
            "[0.7874287428742874, 0.8156315631563157, 0.8267326732673267, 0.8297329732973298, 0.8291329132913291, 0.830933093309331, 0.8324332433243324, 0.8315331533153315]\n"
          ]
        }
      ],
      "source": [
        "# Train/Predict magic telescope using distance-weighted voting\n",
        "\n",
        "# Train/Predict using k=1,3,...,15\n",
        "k_acc = []\n",
        "x_v = []\n",
        "for i in range(1, 17, 2):\n",
        "  x_v.append(i)\n",
        "  clf = KNNClassifier(weight_type='inverse_distance', k_val=i)\n",
        "  res = clf.fit(tel_norm_inputs, tel_targets)\n",
        "  k_acc.append(res.score(tel_norm_test_inputs, tel_test_targets))\n",
        "\n",
        "# Graph MSE over k\n",
        "plt.plot(x_v, k_acc)\n",
        "plt.title(\"Magic Telescope Inverse Distance Train/Pred odd k 1-15\")\n",
        "plt.xlabel(\"K value\")\n",
        "plt.ylabel(\"Classification Acc\")\n",
        "plt.show()\n",
        "print(k_acc)"
      ]
    },
    {
      "cell_type": "markdown",
      "metadata": {
        "id": "APz2NlNepj8P"
      },
      "source": [
        "## 4.2 Housing Dataset"
      ]
    },
    {
      "cell_type": "code",
      "execution_count": 37,
      "metadata": {
        "id": "eGxzfVvNpj8P"
      },
      "outputs": [
        {
          "data": {
            "image/png": "[encoded data removed]",
            "text/plain": [
              "<Figure size 432x288 with 1 Axes>"
            ]
          },
          "metadata": {
            "needs_background": "light"
          },
          "output_type": "display_data"
        },
        {
          "name": "stdout",
          "output_type": "stream",
          "text": [
            "[23.580980392156878, 12.310558867751297, 11.179088494440384, 11.073892657897748, 11.736722469473246, 12.16907932184446, 12.59875781625799, 12.460864170122152]\n"
          ]
        }
      ],
      "source": [
        "# Train/Predict using k=1,3,...,15\n",
        "k_MSE = []\n",
        "x_v = []\n",
        "for i in range(1, 17, 2):\n",
        "  x_v.append(i)\n",
        "  clf = KNNClassifier(pred_type='real', weight_type='inverse_distance', k_val=i)\n",
        "  res = clf.fit(housing_norm_inputs, housing_targets)\n",
        "  k_MSE.append(res.score(housing_norm_test_inputs, housing_test_targets))\n",
        "\n",
        "# Graph MSE over k\n",
        "plt.plot(x_v, k_MSE)\n",
        "plt.title(\"Housing Inverse Distance Train/Pred odd k 1-15\")\n",
        "plt.xlabel(\"K value\")\n",
        "plt.ylabel(\"MSE\")\n",
        "plt.show()\n",
        "print(k_MSE)\n"
      ]
    },
    {
      "cell_type": "markdown",
      "metadata": {
        "id": "BoOLKUSnpj8Q"
      },
      "source": [
        "*Discuss your results*"
      ]
    },
    {
      "cell_type": "markdown",
      "metadata": {
        "id": "hhFe-C_ipj8Q"
      },
      "source": [
        "## 5. (10%) Use the k-nearest neighbor algorithm to solve the [credit-approval](https://archive.ics.uci.edu/ml/datasets/Credit+Approval) (credit-a) problem.\n",
        "\n",
        "- Use this [dataset](https://raw.githubusercontent.com/cs472ta/CS472/master/datasets/credit_approval.arff)\n",
        "    - Use a 70/30 split of the data for the training/test set\n",
        "- Note that this set has both continuous and nominal attributes, together with don’t know values. \n",
        "- Implement and justify a distance metric which supports continuous, nominal, and don’t know attribute values\n",
        "    - You need to handle don't knows with the distance metric, not by imputing a value.\n",
        "    - More information on distance metrics can be found [here](https://www.jair.org/index.php/jair/article/view/10182/24168).\n",
        "- Use your own choice for k.\n",
        "- As a rough sanity check, typical knn accuracies for the credit data set are 70-80%.\n"
      ]
    },
    {
      "cell_type": "code",
      "execution_count": 50,
      "metadata": {
        "id": "Tkz2k5Dzpj8Q"
      },
      "outputs": [
        {
          "name": "stdout",
          "output_type": "stream",
          "text": [
            "['+', '-', '+', '-', '+', '-', '-', '-', '+', '+', '-', '-', '-', '+', '+', '-', '-', '+', '-', '+', '+', '-', '+', '+', '+', '+', '-', '+', '-', '+', '+', '-', '+', '-', '-', '+', '-', '-', '-', '+', '+', '+', '-', '-', '-', '+', '-', '-', '-', '+', '-', '-', '+', '-', '-', '-', '-', '-', '-', '-', '-', '-', '+', '+', '+', '+', '-', '-', '-', '+', '-', '+', '-', '-', '-', '+', '+', '+', '+', '+', '+', '-', '+', '-', '-', '-', '-', '+', '-', '-', '-', '+', '+', '+', '+', '-', '+', '-', '+', '-', '+', '-', '+', '-', '+', '+', '+', '+', '-', '-', '-', '-', '-', '-', '-', '+', '+', '+', '+', '-', '-', '-', '-', '-', '+', '-', '-', '+', '-', '+', '+', '-', '-', '-', '+', '-', '-', '+', '-', '+', '-', '-', '-', '-', '-', '+', '-', '-', '+', '+', '-', '-', '-', '+', '-', '+', '-', '-', '+', '-', '-', '-', '-', '+', '-', '-', '-', '-', '-', '-', '-', '-', '-', '+', '-', '+', '-', '-', '-', '-', '-', '-', '-', '-', '-', '+', '-', '-', '+', '-', '+', '-', '-', '+', '-', '+', '-', '+', '+', '-', '-', '-', '-', '-', '-', '-', '+', '+']\n"
          ]
        },
        {
          "data": {
            "text/plain": [
              "0.6346153846153846"
            ]
          },
          "execution_count": 50,
          "metadata": {},
          "output_type": "execute_result"
        }
      ],
      "source": [
        "!curl -s https://raw.githubusercontent.com/cs472ta/CS472/master/datasets/credit_approval.arff --output credit.arff\n",
        "# Train/Predict credit-approval\n",
        "credit = arff.loadarff('credit.arff')\n",
        "credit_df = convertBytestoString(pd.DataFrame(credit[0]))\n",
        "credit_np = np.array(credit_df)\n",
        "\n",
        "featuers = ['categoritcal','real','real','categoritcal','categoritcal','categoritcal','categoritcal','real','categoritcal','categoritcal','real','categoritcal','categoritcal','real','real']\n",
        "# Train/Predict without normalization\n",
        "clf = KNNClassifier(weight_type='no_weight', columnType=featuers)\n",
        "\n",
        "# split test and train\n",
        "credit_train = credit_np[: int(len(credit_np) * 0.7)]\n",
        "credit_test = credit_np[int(len(credit_np) * 0.7) :]\n",
        "\n",
        "# train inputs and targets\n",
        "credit_inputs = np.array(credit_train[:,0:-1])\n",
        "credit_targets = np.array(credit_train[:,-1])\n",
        "\n",
        "# test inputs and targets\n",
        "credit_test_inputs = np.array(credit_test[:,0:-1])\n",
        "credit_test_targets = np.array(credit_test[:,-1])\n",
        "\n",
        "res = clf.fit(credit_inputs, credit_targets)\n",
        "res.score(credit_test_inputs,credit_test_targets)"
      ]
    },
    {
      "cell_type": "markdown",
      "metadata": {
        "id": "nOIBMx8Rpj8Q"
      },
      "source": [
        "*Explain and justify your distance metric*"
      ]
    },
    {
      "cell_type": "markdown",
      "metadata": {
        "id": "oBBmeNQ7jvcQ"
      },
      "source": [
        "## 6. (15%) Use the scikit's KNN Classifier on magic telescope and KNN Regressor on housing and compare your results.\n",
        "\n",
        "- Try out different hyperparameters to see how well you can do. \n"
      ]
    },
    {
      "cell_type": "code",
      "execution_count": 9,
      "metadata": {
        "id": "OFQv70W2VyqJ"
      },
      "outputs": [
        {
          "ename": "NameError",
          "evalue": "name 'tel_inputs' is not defined",
          "output_type": "error",
          "traceback": [
            "\u001b[0;31m---------------------------------------------------------------------------\u001b[0m",
            "\u001b[0;31mNameError\u001b[0m                                 Traceback (most recent call last)",
            "\u001b[0;32m/var/folders/y9/rp3lsyjd533_jp_d_rbnbl9r0000gn/T/ipykernel_29675/293138400.py\u001b[0m in \u001b[0;36m<module>\u001b[0;34m\u001b[0m\n\u001b[1;32m      1\u001b[0m \u001b[0;31m# Train/Predict magic telescope using scikit's KNN\u001b[0m\u001b[0;34m\u001b[0m\u001b[0;34m\u001b[0m\u001b[0;34m\u001b[0m\u001b[0m\n\u001b[1;32m      2\u001b[0m \u001b[0mneigh\u001b[0m \u001b[0;34m=\u001b[0m \u001b[0mKNeighborsClassifier\u001b[0m\u001b[0;34m(\u001b[0m\u001b[0mn_neighbors\u001b[0m\u001b[0;34m=\u001b[0m\u001b[0;36m3\u001b[0m\u001b[0;34m)\u001b[0m\u001b[0;34m\u001b[0m\u001b[0;34m\u001b[0m\u001b[0m\n\u001b[0;32m----> 3\u001b[0;31m \u001b[0mneigh\u001b[0m\u001b[0;34m.\u001b[0m\u001b[0mfit\u001b[0m\u001b[0;34m(\u001b[0m\u001b[0mtel_inputs\u001b[0m\u001b[0;34m,\u001b[0m \u001b[0mtel_targets\u001b[0m\u001b[0;34m)\u001b[0m\u001b[0;34m\u001b[0m\u001b[0;34m\u001b[0m\u001b[0m\n\u001b[0m\u001b[1;32m      4\u001b[0m \u001b[0mprint\u001b[0m\u001b[0;34m(\u001b[0m\u001b[0mneigh\u001b[0m\u001b[0;34m.\u001b[0m\u001b[0mscore\u001b[0m\u001b[0;34m(\u001b[0m\u001b[0mtel_test_inputs\u001b[0m\u001b[0;34m,\u001b[0m \u001b[0mtel_test_targets\u001b[0m\u001b[0;34m)\u001b[0m\u001b[0;34m)\u001b[0m\u001b[0;34m\u001b[0m\u001b[0;34m\u001b[0m\u001b[0m\n\u001b[1;32m      5\u001b[0m \u001b[0;31m# Train/Predict housing using scikit's KNN\u001b[0m\u001b[0;34m\u001b[0m\u001b[0;34m\u001b[0m\u001b[0;34m\u001b[0m\u001b[0m\n",
            "\u001b[0;31mNameError\u001b[0m: name 'tel_inputs' is not defined"
          ]
        }
      ],
      "source": [
        "# Train/Predict magic telescope using scikit's KNN\n",
        "neigh = KNeighborsClassifier(n_neighbors=3)\n",
        "neigh.fit(tel_inputs, tel_targets)\n",
        "print(neigh.score(tel_test_inputs, tel_test_targets))\n",
        "# Train/Predict housing using scikit's KNN\n",
        "neigh = KNeighborsRegressor(n_neighbors=3)\n",
        "neigh.fit(housing_norm_inputs, housing_targets)\n",
        "print(neigh.predict(housing_norm_test_inputs, housing_test_targets))"
      ]
    },
    {
      "cell_type": "markdown",
      "metadata": {
        "id": "BqSFAXwlk3Ms"
      },
      "source": [
        "*Report your comparison*"
      ]
    },
    {
      "cell_type": "markdown",
      "metadata": {
        "id": "cTlK-kijk8Mg"
      },
      "source": [
        "## 7. (optional 5% extra credit): For the best value of k for any one of the datasets, implement a reduction algorithm that removes data points in some rational way such that performance does not drop too drastically on the test set given the reduced training set.\n",
        "\n",
        "- Compare your performance on the test set for the reduced and non-reduced versions and give the number (and percentage) of training examples removed from the original training set. How well does your reduction algorithm work?\n",
        "    - Note that performance for magic telescope is classification accuracy and for housing it is mean squared error.\n",
        "    - Magic Telescope has about 12,000 instances and if you use a leave one out style of testing for your data set reduction, then your algorithm will run slow since that is n2 at each step.\n",
        "    - If you wish, you may use a random subset of 2,000 of the magic telescope instances.\n",
        "    - More information on reduction techniques can be found [here](http://axon.cs.byu.edu/~martinez/classes/478/slides/IBL.pdf).\n"
      ]
    },
    {
      "cell_type": "code",
      "execution_count": null,
      "metadata": {
        "id": "5iY77P7gk1Nh"
      },
      "outputs": [],
      "source": []
    }
  ],
  "metadata": {
    "colab": {
      "collapsed_sections": [],
      "name": "lab_4_knn",
      "provenance": []
    },
    "interpreter": {
      "hash": "8714eab89ae485900fa73f399cda1640b5bb7d68dc82ec2a5597c91e33d54393"
    },
    "kernelspec": {
      "display_name": "Python 3.9.2 64-bit ('.venv': venv)",
      "name": "python3"
    },
    "language_info": {
      "codemirror_mode": {
        "name": "ipython",
        "version": 3
      },
      "file_extension": ".py",
      "mimetype": "text/x-python",
      "name": "python",
      "nbconvert_exporter": "python",
      "pygments_lexer": "ipython3",
      "version": "3.9.2"
    }
  },
  "nbformat": 4,
  "nbformat_minor": 0
}
