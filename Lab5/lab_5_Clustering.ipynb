{
  "cells": [
    {
      "cell_type": "markdown",
      "metadata": {
        "id": "DVL7_bgmIAPR"
      },
      "source": [
        "# Unsupervised Learning: Clustering Lab\n",
        "\n",
        "\n",
        "\n"
      ]
    },
    {
      "cell_type": "code",
      "execution_count": 131,
      "metadata": {
        "id": "6ZbYjZZZ_yLV"
      },
      "outputs": [],
      "source": [
        "from sklearn.base import BaseEstimator, ClassifierMixin\n",
        "from sklearn.cluster import AgglomerativeClustering, KMeans\n",
        "from sklearn.metrics import silhouette_score\n",
        "import random\n",
        "from sklearn import preprocessing\n",
        "from scipy.io import arff\n",
        "import numpy as np\n",
        "import pandas as pd\n",
        "import matplotlib.pyplot as plt"
      ]
    },
    {
      "cell_type": "markdown",
      "metadata": {
        "id": "sCcEPx5VIORj"
      },
      "source": [
        "## 1. (50%) Implement the k-means clustering algorithm and the HAC (Hierarchical Agglomerative Clustering) algorithm.\n",
        "\n",
        "### 1.1.1 HAC\n",
        "\n",
        "### Code requirements \n",
        "- HAC should support both single link and complete link options.\n",
        "- HAC automatically generates all clusterings from n to 1.  To simplify the amount of output you may want to implement a mechanism to specify for which k values actual output will be generated.\n",
        "\n",
        "\n",
        "---\n",
        "The output should include the following:\n",
        "- The number of clusters (k).\n",
        "- The silhouette score of the full clustering. (You can either write and use your own silhouette_score function (extra credit) or use sklearn's)\n",
        "\n",
        "\n",
        "For each cluster report include:\n",
        "\n",
        "\n",
        "- The centroid id.\n",
        "- The number of instances tied to that centroid. \n",
        "---"
      ]
    },
    {
      "cell_type": "code",
      "execution_count": 132,
      "metadata": {
        "id": "_a2KSZ_7AN0G"
      },
      "outputs": [],
      "source": [
        "class HACClustering(BaseEstimator,ClassifierMixin):\n",
        "\n",
        "    def __init__(self,k=3,link_type='single'): ## add parameters here\n",
        "        \"\"\"\n",
        "        Args:\n",
        "            k = how many final clusters to have\n",
        "            link_type = single or complete. when combining two clusters use complete link or single link\n",
        "        \"\"\"\n",
        "        self.link_type = link_type\n",
        "        self.k = k\n",
        "        self.clusters = []\n",
        "        \n",
        "    def fit(self, X, y=None):\n",
        "        \"\"\" Fit the data; In this lab this will make the K clusters :D\n",
        "        Args:\n",
        "            X (array-like): A 2D numpy array with the training data\n",
        "            y (array-like): An optional argument. Clustering is usually unsupervised so you don't need labels\n",
        "        Returns:\n",
        "            self: this allows this to be chained, e.g. model.fit(X,y).predict(X_test)\n",
        "        \"\"\"\n",
        "        cluster_arr = [np.array([item]) for item in X]\n",
        "        self.clusters = cluster_arr\n",
        "        is_done = False\n",
        "        while not is_done:\n",
        "          if len(self.clusters) == self.k:\n",
        "            is_done = True\n",
        "            break\n",
        "          self.clusters = self.update_clusters(self.clusters)\n",
        "        return self\n",
        "\n",
        "    def score(self):\n",
        "      self.sse = []\n",
        "      self.total_sse = 0\n",
        "      self.centroids = []\n",
        "      # find centroids\n",
        "      for i in range(len(self.clusters)):\n",
        "        centroid = np.mean(self.clusters[i], axis=0)\n",
        "        self.centroids.append(centroid)\n",
        "        # find cluster sse\n",
        "        tmp = np.linalg.norm(self.clusters[i] - centroid)\n",
        "        squared_err = tmp**2\n",
        "        self.sse.append(np.sum(squared_err))\n",
        "        self.total_sse += squared_err\n",
        "\n",
        "    def update_clusters(self, clusters):\n",
        "      distances = []\n",
        "      cluster_indexes = []\n",
        "      for i in range(len(clusters)):\n",
        "        tmp_dist = []\n",
        "        for j in range(len(clusters)):\n",
        "          min_dist = self.get_min()\n",
        "          # don't want to compare point to itself\n",
        "          if i == j:\n",
        "            tmp_dist.append(np.inf)\n",
        "            continue\n",
        "          if len(clusters[i]) > 1:\n",
        "            # check if j is also a cluster\n",
        "            if len(clusters[j]) > 1:\n",
        "            # calc distance between the two clusters\n",
        "              for k in range(len(clusters[i])):\n",
        "                for l in range(len(clusters[j])):\n",
        "                  dist = np.linalg.norm(clusters[i][k] - clusters[j][l])\n",
        "                  if self.get_should_update(dist, min_dist):\n",
        "                    min_dist = dist\n",
        "            else: \n",
        "              # calc distance between cluster with multiple points to single point\n",
        "              for k in range(len(clusters[i])):\n",
        "                dist = np.linalg.norm(clusters[i][k] - clusters[j])\n",
        "                if self.get_should_update(dist, min_dist):\n",
        "                    min_dist = dist\n",
        "          else: \n",
        "            if len(clusters[j]) > 1:\n",
        "            # i is single cluster, j has more than one\n",
        "              for k in range(len(clusters[j])):\n",
        "                dist = np.linalg.norm(clusters[i] - clusters[j][k])\n",
        "                if self.get_should_update(dist, min_dist):\n",
        "                    min_dist = dist\n",
        "            else:\n",
        "              # distance between two individual clusters\n",
        "              min_dist = np.linalg.norm(clusters[i] - clusters[j])\n",
        "          tmp_dist.append(min_dist)\n",
        "        # find minimum distance value\n",
        "        min_val = min(tmp_dist)\n",
        "        # find index of array of min distance\n",
        "        index = tmp_dist.index(min_val)\n",
        "        distances.append(min_val)\n",
        "        cluster_indexes.append(index)\n",
        "      \n",
        "      # find best overall distance\n",
        "      best_dist = min(distances)\n",
        "      dist_index = distances.index(best_dist)\n",
        "      prev_index = cluster_indexes[dist_index]\n",
        "      \n",
        "      # add point at shortest distance to cluster\n",
        "      comb_arr = clusters[prev_index]\n",
        "      comb_arr = np.append(clusters[dist_index], np.array(clusters[prev_index]), axis=0)\n",
        "      clusters[dist_index] = comb_arr\n",
        "      # delete cluster because it's been merged \n",
        "      new_clusters = np.delete(clusters, prev_index)\n",
        "      return new_clusters\n",
        "    \n",
        "    def get_min(self):\n",
        "      # depending on link type, want to get initial minimum value \n",
        "      if self.link_type == 'single':\n",
        "          return np.inf\n",
        "      if self.link_type == 'complete':\n",
        "          return 0\n",
        "\n",
        "    def get_should_update(self, new_dist, old_dist):\n",
        "      # if single link link update if new dist is **less** than old\n",
        "      if self.link_type == 'single' and new_dist < old_dist:\n",
        "        return True\n",
        "      # if complete link update if new dist is **greater** than old\n",
        "      if self.link_type == 'complete' and new_dist > old_dist:\n",
        "        return True\n",
        "      return False\n",
        "    \n",
        "    def print_clusters(self):\n",
        "      \"\"\"\n",
        "        Used for grading.\n",
        "        print(\"Num clusters: {:d}\\n\".format(k))\n",
        "        print(\"Silhouette score: {:.4f}\\n\\n\".format(silhouette_score))\n",
        "        for each cluster and centroid:\n",
        "          print(np.array2string(centroid,precision=4,separator=\",\"))\n",
        "          print(\"{:d}\\n\".format(size of cluster))\n",
        "      \"\"\"\n",
        "      # print results\n",
        "      print(\"{:d}\".format(len(self.clusters)))\n",
        "      print(\"{:.4f}\\n\".format(self.total_sse))\n",
        "      for i in range(len(self.clusters)):\n",
        "        print(np.array2string(self.centroids[i],precision=4,separator=\",\"))\n",
        "        print(\"{:d}\".format(len(self.clusters[i])))\n",
        "        print(\"{:.4f}\\n\".format(self.sse[i]))\n",
        "    \n",
        "    def get_total_sse(self):\n",
        "      return self.total_sse\n",
        "    "
      ]
    },
    {
      "cell_type": "markdown",
      "metadata": {
        "id": "KibCIXIThpbE"
      },
      "source": [
        "### 1.1.2 Debug \n",
        "\n",
        "Debug your model by running it on the [Debug Dataset](https://raw.githubusercontent.com/cs472ta/CS472/master/datasets/abalone.arff)\n",
        "\n",
        "\n",
        "---\n",
        "The dataset was modified to be a lot smaller. The last datapoint should be on line 359 or the point 0.585,0.46,0.185,0.922,0.3635,0.213,0.285,10. The remaining points should be commented out.\n",
        "\n",
        "\n",
        "- Make sure to include the output class (last column) as an additional input feature\n",
        "- Normalize Data\n",
        "- K = 5\n",
        "- Use 4 decimal places and DO NOT ROUND when reporting silhouette score and centroid values.\n",
        "\n",
        "\n",
        "---\n",
        "Solutions in files:\n",
        "\n",
        "[Debug HAC Single (Silhouette).txt](https://raw.githubusercontent.com/cs472ta/CS472/master/debug_solutions/Debug%20HAC%20Single%20Link%20%28Silhouette%29.txt)\n",
        "\n",
        "[Debug HAC Complete (Silhouette).txt](https://raw.githubusercontent.com/cs472ta/CS472/master/debug_solutions/Debug%20HAC%20Complete%20Link%20%28Silhouette%29.txt)"
      ]
    },
    {
      "cell_type": "code",
      "execution_count": 133,
      "metadata": {},
      "outputs": [],
      "source": [
        "def normalize_data(inputs):\n",
        "  xmin = inputs.min(axis=0)\n",
        "  xmax = inputs.max(axis=0)\n",
        "  return (inputs-xmin)/(xmax-xmin)"
      ]
    },
    {
      "cell_type": "code",
      "execution_count": 134,
      "metadata": {
        "id": "5IBV-YkVXCRt"
      },
      "outputs": [
        {
          "name": "stdout",
          "output_type": "stream",
          "text": [
            "SINGLE LINK\n",
            "5\n",
            "54.4392\n",
            "\n",
            "[0.599 ,0.5923,0.4915,0.2826,0.2682,0.2921,0.2316,0.3849]\n",
            "195\n",
            "54.3917\n",
            "\n",
            "[0.9189,0.9438,0.7105,0.7016,0.759 ,0.7222,0.4472,0.8824]\n",
            "1\n",
            "0.0000\n",
            "\n",
            "[1.    ,0.9831,0.8026,0.8343,0.6575,0.7825,0.9221,0.8824]\n",
            "2\n",
            "0.0475\n",
            "\n",
            "[1.    ,0.9888,0.7895,1.    ,1.    ,0.8915,0.7186,0.5882]\n",
            "1\n",
            "0.0000\n",
            "\n",
            "[0.9189,0.9888,0.8684,0.719 ,0.5797,0.7512,0.6432,0.9412]\n",
            "1\n",
            "0.0000\n",
            "\n"
          ]
        }
      ],
      "source": [
        "# Debug Here\n",
        "!curl -s https://raw.githubusercontent.com/cs472ta/CS472/master/datasets/abalone.arff --output debug.arff\n",
        "# Train on training set\n",
        "debug_data = arff.loadarff('debug.arff')\n",
        "debug_np = np.array(debug_data[0])\n",
        "debug_norm = np.array(normalize_data(pd.DataFrame(debug_np)))\n",
        "\n",
        "print('SINGLE LINK')\n",
        "clf = HACClustering(k=5, link_type='single')\n",
        "res = clf.fit(debug_norm)\n",
        "res.score()\n",
        "res.print_clusters()\n",
        "\n"
      ]
    },
    {
      "cell_type": "code",
      "execution_count": 135,
      "metadata": {},
      "outputs": [
        {
          "name": "stdout",
          "output_type": "stream",
          "text": [
            "COMPLETE LINK\n",
            "5\n",
            "13.0824\n",
            "\n",
            "[0.6544,0.649 ,0.5256,0.2879,0.2815,0.3057,0.2288,0.3911]\n",
            "71\n",
            "3.8232\n",
            "\n",
            "[0.3661,0.3505,0.271 ,0.1008,0.1024,0.1058,0.0836,0.2116]\n",
            "67\n",
            "5.2786\n",
            "\n",
            "[0.7622,0.7658,0.6759,0.4265,0.4016,0.4536,0.3376,0.5217]\n",
            "38\n",
            "1.4989\n",
            "\n",
            "[0.8818,0.8904,0.7582,0.614 ,0.5433,0.5317,0.561 ,0.7794]\n",
            "16\n",
            "1.5328\n",
            "\n",
            "[0.9471,0.934 ,0.8158,0.7457,0.6434,0.7944,0.6457,0.625 ]\n",
            "8\n",
            "0.9490\n",
            "\n"
          ]
        }
      ],
      "source": [
        "print('COMPLETE LINK')\n",
        "clf = HACClustering(k=5, link_type='complete')\n",
        "res = clf.fit(debug_norm)\n",
        "res.score()\n",
        "res.print_clusters()"
      ]
    },
    {
      "cell_type": "markdown",
      "metadata": {
        "id": "kY3VNB1ui03N"
      },
      "source": [
        "### 1.1.3 Evaluation\n",
        "\n",
        "We will evaluate your model based on its print_clusters() output using [Evaluation Dataset](https://raw.githubusercontent.com/cs472ta/CS472/master/datasets/seismic-bumps_train.arff)\n",
        "\n",
        "- Make sure to include the output class (last column) as an additional input feature\n",
        "- Normalize Data\n",
        "- K = 5\n",
        "- Use 4 decimal places and DO NOT ROUND when reporting silhouette score and centroid values."
      ]
    },
    {
      "cell_type": "markdown",
      "metadata": {
        "id": "oMxalNI-XCRu"
      },
      "source": [
        "#### 1.1.3.1 Complete Link"
      ]
    },
    {
      "cell_type": "markdown",
      "metadata": {
        "id": "PtzHMZnHXCRu"
      },
      "source": [
        "#### 1.1.3.1 Single Link"
      ]
    },
    {
      "cell_type": "code",
      "execution_count": 136,
      "metadata": {
        "id": "2yAxA78QjDh2"
      },
      "outputs": [
        {
          "name": "stdout",
          "output_type": "stream",
          "text": [
            "5\n",
            "15.6967\n",
            "\n",
            "[0.3636,0.4107,0.5609,0.3857,0.3937,0.2808,0.3155,0.    ]\n",
            "49\n",
            "5.0209\n",
            "\n",
            "[0.3471,0.3622,0.7897,0.279 ,0.441 ,0.8568,0.2234,0.    ]\n",
            "3\n",
            "0.2178\n",
            "\n",
            "[0.1656,0.2226,0.3509,0.2328,0.152 ,0.3424,0.1918,0.    ]\n",
            "18\n",
            "2.2794\n",
            "\n",
            "[0.7918,0.8268,0.606 ,0.7669,0.7787,0.4634,0.7877,1.    ]\n",
            "49\n",
            "6.3712\n",
            "\n",
            "[0.5326,0.6002,0.4536,0.5531,0.5144,0.5401,0.6266,1.    ]\n",
            "21\n",
            "1.8075\n",
            "\n"
          ]
        }
      ],
      "source": [
        "# Load evaluation data\n",
        "!curl -s https://raw.githubusercontent.com/cs472ta/CS472/master/datasets/seismic-bumps_train.arff --output evaldata.arff\n",
        "eval_data = arff.loadarff('evaldata.arff')\n",
        "eval_df = pd.DataFrame(eval_data[0])\n",
        "eval_df[\"Class\"] = eval_df[\"Class\"].astype(object).astype(int)\n",
        "eval_norm = np.array(normalize_data(eval_df))\n",
        "\n",
        "# Train on evaluation data using complete link\n",
        "clf = HACClustering(k=5, link_type='complete')\n",
        "res = clf.fit(eval_norm)\n",
        "res.score()\n",
        "\n",
        "# Print clusters\n",
        "res.print_clusters()\n"
      ]
    },
    {
      "cell_type": "code",
      "execution_count": 137,
      "metadata": {
        "id": "0Jh6vYeCXCRv"
      },
      "outputs": [
        {
          "name": "stdout",
          "output_type": "stream",
          "text": [
            "5\n",
            "22.4548\n",
            "\n",
            "[0.3159,0.3648,0.5145,0.349 ,0.3338,0.3077,0.2868,0.    ]\n",
            "67\n",
            "10.0257\n",
            "\n",
            "[0.2774,0.2597,1.    ,0.1224,0.4505,0.7549,0.129 ,0.    ]\n",
            "1\n",
            "0.0000\n",
            "\n",
            "[0.3065,0.3333,0.6979,0.2792,0.3787,1.    ,0.2373,0.    ]\n",
            "1\n",
            "0.0000\n",
            "\n",
            "[0.0884,0.1818,0.    ,0.145 ,0.1538,0.1245,0.    ,0.    ]\n",
            "1\n",
            "0.0000\n",
            "\n",
            "[0.714 ,0.7588,0.5603,0.7028,0.6994,0.4864,0.7393,1.    ]\n",
            "70\n",
            "12.4291\n",
            "\n"
          ]
        }
      ],
      "source": [
        "# Train on evaluation data using single link\n",
        "!curl -s https://raw.githubusercontent.com/cs472ta/CS472/master/datasets/seismic-bumps_train.arff --output evaldata.arff\n",
        "eval_data = arff.loadarff('evaldata.arff')\n",
        "eval_df = pd.DataFrame(eval_data[0])\n",
        "eval_df[\"Class\"] = eval_df[\"Class\"].astype(object).astype(int)\n",
        "eval_norm = np.array(normalize_data(eval_df))\n",
        "\n",
        "clf = HACClustering(k=5, link_type='single')\n",
        "res = clf.fit(eval_norm)\n",
        "res.score()\n",
        "# Print clusters\n",
        "res.score()\n",
        "res.print_clusters()"
      ]
    },
    {
      "cell_type": "markdown",
      "metadata": {
        "id": "-EOkBzaUXCRv"
      },
      "source": [
        "### 1.2.1 K-Means\n",
        "\n",
        "### Code requirements \n",
        "- Ability to choose k and specify k initial centroids\n",
        "- Use Euclidean Distance as metric\n",
        "- Ability to handle distance ties\n",
        "- Include output label as a cluster feature\n",
        "\n",
        "\n",
        "---\n",
        "The output should include the following:\n",
        "- The number of clusters (k).\n",
        "- The silhouette score of the full clustering. (You can either write and use your own silhouette_score function (extra credit) or use sklearn's)\n",
        "\n",
        "\n",
        "For each cluster report include:\n",
        "\n",
        "\n",
        "- The centroid id.\n",
        "- The number of instances tied to that centroid. \n",
        "---\n",
        "You only need to handle continuous features"
      ]
    },
    {
      "cell_type": "code",
      "execution_count": 138,
      "metadata": {
        "id": "J1KYATRKXCRv"
      },
      "outputs": [],
      "source": [
        "class KMEANSClustering(BaseEstimator,ClassifierMixin):\n",
        "\n",
        "    def __init__(self,k=3,debug=False): ## add parameters here\n",
        "        \"\"\"\n",
        "        Args:\n",
        "            k = how many final clusters to have\n",
        "            debug = if debug is true use the first k instances as the initial centroids otherwise choose random points as the initial centroids.\n",
        "        \"\"\"\n",
        "        self.k = k\n",
        "        self.debug = debug\n",
        "\n",
        "    def fit(self, X, y=None):\n",
        "        \"\"\" Fit the data; In this lab this will make the K clusters :D\n",
        "        Args:\n",
        "            X (array-like): A 2D numpy array with the training data\n",
        "            y (array-like): An optional argument. Clustering is usually unsupervised so you don't need labels\n",
        "        Returns:\n",
        "            self: this allows this to be chained, e.g. model.fit(X,y).predict(X_test)\n",
        "        \"\"\"\n",
        "        self.X = X\n",
        "        self.centroids = []\n",
        "        if not self.debug:\n",
        "            for i in range(self.k):\n",
        "                ind = random.randint(0, (len(X) - 1))\n",
        "                self.centroids.append(X[ind])\n",
        "        else:\n",
        "            self.centroids = X[:self.k]\n",
        "        self.clusters = [np.array([]) for k in range(self.k)]\n",
        "        is_done = False\n",
        "        while not is_done:\n",
        "            if not self.update_clusters(X):\n",
        "                is_done = True\n",
        "                break\n",
        "        return self\n",
        "\n",
        "    def update_centroids(self):\n",
        "        new_centroids = []\n",
        "        updated = False\n",
        "        for i, cluster in enumerate(self.clusters):\n",
        "            centroid = np.mean(cluster, axis=0)\n",
        "            if not np.array_equal(self.centroids[i], centroid):\n",
        "                updated = True\n",
        "            new_centroids.append(centroid)\n",
        "        self.centroids = new_centroids\n",
        "        return updated\n",
        "\n",
        "    def update_clusters(self, points):\n",
        "        self.clusters = [np.array([]) for k in range(self.k)]\n",
        "        # for each point see which centroid is closest\n",
        "        for i in range(len(points)):\n",
        "            # get shortest distance between centroids\n",
        "            min_val = np.inf\n",
        "            ind = 0\n",
        "            for j in range(len(self.centroids)):\n",
        "                dist = np.linalg.norm(points[i] - self.centroids[j])\n",
        "                if dist < min_val:\n",
        "                    min_val = dist\n",
        "                    ind = j\n",
        "            if len(self.clusters[ind]) == 0:\n",
        "                add = np.array([points[i]])\n",
        "                self.clusters[ind] = add\n",
        "            else:\n",
        "                original = self.clusters[ind]\n",
        "                original = np.append(original, np.array([points[i]]), axis=0)\n",
        "                self.clusters[ind] = original\n",
        "        \n",
        "        return self.update_centroids()\n",
        "    \n",
        "    def score(self):\n",
        "        self.sse = []\n",
        "        self.total_sse = 0\n",
        "        # find centroids\n",
        "        for i in range(len(self.clusters)):\n",
        "            # find cluster sse\n",
        "            tmp = np.linalg.norm(self.clusters[i] - self.centroids[i])\n",
        "            squared_err = tmp**2\n",
        "            self.sse.append(np.sum(squared_err))\n",
        "            self.total_sse += squared_err\n",
        "            \n",
        "    \n",
        "    def print_clusters(self):\n",
        "        \"\"\"\n",
        "            Used for grading.\n",
        "            print(\"Num clusters: {:d}\\n\".format(k))\n",
        "            print(\"Silhouette score: {:.4f}\\n\\n\".format(silhouette_score))\n",
        "            for each cluster and centroid:\n",
        "                print(np.array2string(centroid,precision=4,separator=\",\"))\n",
        "                print(\"{:d}\\n\".format(size of cluster))\n",
        "        \"\"\"\n",
        "        print(\"{:d}\".format(self.k))\n",
        "        print(\"{:.4f}\\n\".format(self.total_sse))\n",
        "        for i in range(len(self.clusters)):\n",
        "            print(np.array2string(self.centroids[i],precision=4,separator=\",\"))\n",
        "            print(\"{:d}\".format(len(self.clusters[i])))\n",
        "            print(\"{:.4f}\\n\".format(self.sse[i]))\n",
        "\n",
        "    def get_total_sse(self):\n",
        "        return self.total_sse\n"
      ]
    },
    {
      "cell_type": "markdown",
      "metadata": {
        "id": "VgGThkhwXCRv"
      },
      "source": [
        "### 1.2.2 Debug \n",
        "\n",
        "Debug your model by running it on the [Debug Dataset](https://raw.githubusercontent.com/cs472ta/CS472/master/datasets/abalone.arff)\n",
        "\n",
        "\n",
        "- Train until convergence\n",
        "- Make sure to include the output class (last column) as an additional input feature\n",
        "- Normalize Data\n",
        "- K = 5\n",
        "- Use the first k instances as the initial centroids\n",
        "- Use 4 decimal places and DO NOT ROUND when reporting silhouette score and centroid values\n",
        "\n",
        "\n",
        "\n",
        "\n",
        "---\n",
        "Solutions in files:\n",
        "\n",
        "[Debug K Means (Silhouette).txt](https://raw.githubusercontent.com/cs472ta/CS472/master/debug_solutions/Debug%20K%20Means%20%28Silhouette%29.txt)"
      ]
    },
    {
      "cell_type": "code",
      "execution_count": 139,
      "metadata": {
        "id": "KgAyy82gixIF"
      },
      "outputs": [
        {
          "name": "stdout",
          "output_type": "stream",
          "text": [
            "5\n",
            "9.7826\n",
            "\n",
            "[0.7325,0.7327,0.627 ,0.3817,0.3633,0.4045,0.3046,0.4839]\n",
            "75\n",
            "4.0454\n",
            "\n",
            "[0.3704,0.3519,0.2686,0.0926,0.0935,0.094 ,0.0792,0.218 ]\n",
            "34\n",
            "0.6609\n",
            "\n",
            "[0.9035,0.905 ,0.7774,0.6579,0.5767,0.6193,0.5893,0.7279]\n",
            "24\n",
            "3.2116\n",
            "\n",
            "[0.5692,0.5628,0.4376,0.211 ,0.2113,0.2248,0.1659,0.317 ]\n",
            "54\n",
            "1.5452\n",
            "\n",
            "[0.1296,0.1037,0.1053,0.0177,0.0211,0.0272,0.0135,0.0724]\n",
            "13\n",
            "0.3195\n",
            "\n"
          ]
        }
      ],
      "source": [
        "# Load debug data\n",
        "!curl -s https://raw.githubusercontent.com/cs472ta/CS472/master/datasets/abalone.arff --output debug.arff\n",
        "# Train on training set\n",
        "debug_data = arff.loadarff('debug.arff')\n",
        "debug_np = np.array(debug_data[0])\n",
        "debug_norm = np.array(normalize_data(pd.DataFrame(debug_np)))\n",
        "\n",
        "# Train on debug data\n",
        "clf = KMEANSClustering(k=5, debug=True)\n",
        "res = clf.fit(debug_norm)\n",
        "res.score()\n",
        "\n",
        "# Print clusters\n",
        "res.print_clusters()"
      ]
    },
    {
      "cell_type": "markdown",
      "metadata": {
        "id": "Jh507BaLXCRw"
      },
      "source": [
        "### 1.2.3 Evaluation\n",
        "\n",
        "We will evaluate your model based on its print_clusters() output using [Evaluation Dataset](https://raw.githubusercontent.com/cs472ta/CS472/master/datasets/seismic-bumps_train.arff)\n",
        "- Train until convergence\n",
        "- Make sure to include the output class (last column) as an additional input feature\n",
        "- Normalize Data\n",
        "- K = 5\n",
        "- Use the first k instances as the initial centroids\n",
        "- Use 4 decimal places and DO NOT ROUND when reporting silhouette score and centroid values"
      ]
    },
    {
      "cell_type": "code",
      "execution_count": 140,
      "metadata": {
        "id": "EGZwBrplXCRx"
      },
      "outputs": [
        {
          "name": "stdout",
          "output_type": "stream",
          "text": [
            "5\n",
            "14.7279\n",
            "\n",
            "[0.5349,0.6013,0.4617,0.5541,0.5232,0.5544,0.6248,1.    ]\n",
            "22\n",
            "2.0160\n",
            "\n",
            "[0.3684,0.4338,0.4356,0.4388,0.3573,0.2988,0.3673,0.    ]\n",
            "31\n",
            "2.4076\n",
            "\n",
            "[0.3658,0.3854,0.7563,0.3093,0.4659,0.3691,0.2413,0.    ]\n",
            "20\n",
            "2.5248\n",
            "\n",
            "[0.1634,0.2137,0.3968,0.2178,0.1555,0.3078,0.1775,0.    ]\n",
            "19\n",
            "1.7770\n",
            "\n",
            "[0.7961,0.831 ,0.6054,0.7709,0.7802,0.4553,0.7919,1.    ]\n",
            "48\n",
            "6.0025\n",
            "\n"
          ]
        }
      ],
      "source": [
        "# Load evaluation data\n",
        "!curl -s https://raw.githubusercontent.com/cs472ta/CS472/master/datasets/seismic-bumps_train.arff --output k_evaldata.arff\n",
        "k_eval_data = arff.loadarff('k_evaldata.arff')\n",
        "k_eval_df = pd.DataFrame(k_eval_data[0])\n",
        "k_eval_df[\"Class\"] = k_eval_df[\"Class\"].astype(object).astype(int)\n",
        "k_eval_norm = np.array(normalize_data(k_eval_df))\n",
        "clf = KMEANSClustering(k=5, debug=True)\n",
        "\n",
        "# Train on evaluation data\n",
        "res = clf.fit(k_eval_norm)\n",
        "res.score()\n",
        "\n",
        "# Print clusters\n",
        "res.print_clusters()"
      ]
    },
    {
      "cell_type": "markdown",
      "metadata": {
        "id": "9vWiTdlbR2Xh"
      },
      "source": [
        "## 2.1.1 (7.5%) Clustering the Iris Classification problem - HAC\n",
        "\n",
        "Load the Iris Dataset [Iris Dataset](https://raw.githubusercontent.com/cs472ta/CS472/master/datasets/iris.arff)\n",
        "\n",
        "- Use single-link and complete link clustering algorithms\n",
        "- State whether you normalize your data or not (your choice).  \n",
        "- Show your results for clusterings using k = 2-7.  \n",
        "- Graph the silhouette score for each k and discuss your results (i.e. what kind of clusters are being made).\n",
        "---"
      ]
    },
    {
      "cell_type": "code",
      "execution_count": 141,
      "metadata": {
        "id": "4SSoasDQSKXb"
      },
      "outputs": [
        {
          "name": "stdout",
          "output_type": "stream",
          "text": [
            "5\n",
            "10.8369\n",
            "\n",
            "[0.199 ,0.6003,0.0792,0.0595]\n",
            "49\n",
            "1.6020\n",
            "\n",
            "[0.0556,0.125 ,0.0508,0.0833]\n",
            "1\n",
            "0.0000\n",
            "\n",
            "[0.5401,0.357 ,0.657 ,0.6529]\n",
            "97\n",
            "9.2286\n",
            "\n",
            "[0.1667,0.2083,0.5932,0.6667]\n",
            "1\n",
            "0.0000\n",
            "\n",
            "[0.9722,0.75  ,0.9407,0.8333]\n",
            "2\n",
            "0.0063\n",
            "\n"
          ]
        }
      ],
      "source": [
        "# Iris Classification using single-link\n",
        "!curl -s https://raw.githubusercontent.com/cs472ta/CS472/master/datasets/iris.arff --output iris.arff\n",
        "iris_data = arff.loadarff('iris.arff')\n",
        "iris_df = pd.DataFrame(iris_data[0])\n",
        "iris_df = iris_df.iloc[: , :-1]\n",
        "iris_norm =np.array(normalize_data(iris_df))\n",
        "\n",
        "clf = HACClustering(k=5, link_type='single')\n",
        "res = clf.fit(iris_norm)\n",
        "res.score()\n",
        "\n",
        "# Print clusters\n",
        "res.print_clusters()"
      ]
    },
    {
      "cell_type": "code",
      "execution_count": 142,
      "metadata": {
        "id": "-lcM9J9JXCRx"
      },
      "outputs": [
        {
          "name": "stdout",
          "output_type": "stream",
          "text": [
            "5\n",
            "4.7586\n",
            "\n",
            "[0.2424,0.6742,0.0827,0.0732]\n",
            "33\n",
            "0.7438\n",
            "\n",
            "[0.1062,0.4289,0.0708,0.0343]\n",
            "17\n",
            "0.1991\n",
            "\n",
            "[0.5368,0.3671,0.6432,0.6295]\n",
            "37\n",
            "1.2271\n",
            "\n",
            "[0.3515,0.2399,0.512 ,0.4741]\n",
            "29\n",
            "0.9845\n",
            "\n",
            "[0.719 ,0.4645,0.8106,0.8419]\n",
            "34\n",
            "1.6041\n",
            "\n"
          ]
        }
      ],
      "source": [
        "# Iris Classification using complete-link\n",
        "!curl -s https://raw.githubusercontent.com/cs472ta/CS472/master/datasets/iris.arff --output iris.arff\n",
        "iris_data = arff.loadarff('iris.arff')\n",
        "iris_df = pd.DataFrame(iris_data[0])\n",
        "iris_df = iris_df.iloc[: , :-1]\n",
        "iris_norm =np.array(normalize_data(iris_df))\n",
        "clf = HACClustering(k=5, link_type='complete')\n",
        "res = clf.fit(iris_norm)\n",
        "res.score()\n",
        "\n",
        "# Print clusters\n",
        "res.print_clusters()"
      ]
    },
    {
      "cell_type": "markdown",
      "metadata": {
        "id": "ev90JsvjXCRy"
      },
      "source": [
        "Discuss differences between single-link and complete-link"
      ]
    },
    {
      "cell_type": "markdown",
      "metadata": {
        "id": "myLp3nhOXCRy"
      },
      "source": [
        "## 2.2.1 (7.5%) Clustering the Iris Classification problem: K-Means\n",
        "\n",
        "Load the Iris Dataset [Iris Dataset](https://raw.githubusercontent.com/cs472ta/CS472/master/datasets/iris.arff)\n",
        "\n",
        "Run K-Means on the Iris dataset using the output label as a feature and without using the output label as a feature\n",
        "\n",
        "Requirements:\n",
        "- State whether you normalize your data or not (your choice).  \n",
        "- Show your results for clusterings using k = 2-7.  \n",
        "- Graph the silhouette score for each k and discuss your results (i.e. what kind of clusters are being made).\n",
        "---"
      ]
    },
    {
      "cell_type": "code",
      "execution_count": 143,
      "metadata": {},
      "outputs": [],
      "source": [
        "# plot graphs\n",
        "def plot_sse(k_vals, sse, heading):\n",
        "  plt.plot(k_vals, sse)\n",
        "  plt.title(heading + \" Iris SSE for k: 2-7\")\n",
        "  plt.xlabel(\"K value\")\n",
        "  plt.ylabel(\"SSE\")\n",
        "  plt.show()\n",
        "  print(sse)"
      ]
    },
    {
      "cell_type": "code",
      "execution_count": 144,
      "metadata": {
        "id": "XcWCgFb4XCRz"
      },
      "outputs": [
        {
          "data": {
            "image/png": "[encoded data removed]",
            "text/plain": [
              "<Figure size 432x288 with 1 Axes>"
            ]
          },
          "metadata": {
            "needs_background": "light"
          },
          "output_type": "display_data"
        },
        {
          "name": "stdout",
          "output_type": "stream",
          "text": [
            "[12.143688281579719, 10.90827498962253, 5.541657763082496, 4.6088270241303295, 4.260285885448415, 4.214554633092767]\n"
          ]
        }
      ],
      "source": [
        "# Iris Classification without output label\n",
        "!curl -s https://raw.githubusercontent.com/cs472ta/CS472/master/datasets/iris.arff --output iris.arff\n",
        "iris_data = arff.loadarff('iris.arff')\n",
        "iris_df = pd.DataFrame(iris_data[0])\n",
        "iris_df = iris_df.iloc[: , :-1]\n",
        "iris_norm =np.array(normalize_data(iris_df))\n",
        "\n",
        "sse = []\n",
        "k_vals = [2,3,4,5,6,7]\n",
        "for k_val in k_vals:\n",
        "  clf = KMEANSClustering(k=k_val, debug=False)\n",
        "\n",
        "  # Train on evaluation data\n",
        "  res = clf.fit(iris_norm)\n",
        "  res.score()\n",
        "  sse.append(res.get_total_sse())\n",
        "\n",
        "plot_sse(k_vals, sse, \"K means\")"
      ]
    },
    {
      "cell_type": "code",
      "execution_count": 145,
      "metadata": {
        "id": "i62njzqqXCRz"
      },
      "outputs": [
        {
          "data": {
            "image/png": "[encoded data removed]",
            "text/plain": [
              "<Figure size 432x288 with 1 Axes>"
            ]
          },
          "metadata": {
            "needs_background": "light"
          },
          "output_type": "display_data"
        },
        {
          "name": "stdout",
          "output_type": "stream",
          "text": [
            "[12.143688281579719, 11.900755980943662, 11.000993601553954, 10.836893087506661, 10.50358461245487, 10.390325542075583]\n"
          ]
        },
        {
          "data": {
            "image/png": "[encoded data removed]",
            "text/plain": [
              "<Figure size 432x288 with 1 Axes>"
            ]
          },
          "metadata": {
            "needs_background": "light"
          },
          "output_type": "display_data"
        },
        {
          "name": "stdout",
          "output_type": "stream",
          "text": [
            "[25.74621835892373, 7.153670283877278, 6.251658260877483, 4.758612427918279, 4.114338438659382, 3.6657173105931418]\n"
          ]
        }
      ],
      "source": [
        "# Iris Classification with output label\n",
        "!curl -s https://raw.githubusercontent.com/cs472ta/CS472/master/datasets/iris.arff --output iris.arff\n",
        "iris_data = arff.loadarff('iris.arff')\n",
        "iris_df = pd.DataFrame(iris_data[0])\n",
        "iris_df = iris_df.iloc[: , :-1]\n",
        "iris_norm =np.array(normalize_data(iris_df))\n",
        "\n",
        "s_sse = []\n",
        "c_sse = []\n",
        "k_vals = [2,3,4,5,6,7]\n",
        "for k_val in k_vals:\n",
        "  # fit and score with single link\n",
        "  s_clf = HACClustering(k=k_val, link_type='single')\n",
        "  res = s_clf.fit(iris_norm)\n",
        "  res.score()\n",
        "  s_sse.append(res.get_total_sse())\n",
        "  # fit and score with complete link\n",
        "  c_clf = HACClustering(k=k_val, link_type='complete')\n",
        "  res = c_clf.fit(iris_norm)\n",
        "  res.score()\n",
        "  c_sse.append(res.get_total_sse())\n",
        "\n",
        "plot_sse(k_vals, s_sse, \"HAC Single Link\")\n",
        "plot_sse(k_vals, c_sse, \"HAC Complete Link\")"
      ]
    },
    {
      "cell_type": "markdown",
      "metadata": {
        "id": "n6Zw0eAOXCRz"
      },
      "source": [
        "Compare results and differences between using the output label and excluding the output label"
      ]
    },
    {
      "cell_type": "markdown",
      "metadata": {
        "id": "aDdAadpVXCRz"
      },
      "source": [
        "## 2.2.2 (5%) Clustering the Iris Classification problem: K-Means\n",
        "\n",
        "Requirements:\n",
        "- Use the output label as an input feature\n",
        "- Run K-Means 5 times with k=4, each time with different initial random centroids and discuss any variations in the results. "
      ]
    },
    {
      "cell_type": "code",
      "execution_count": 149,
      "metadata": {
        "id": "P3r8kad0XCRz"
      },
      "outputs": [
        {
          "name": "stdout",
          "output_type": "stream",
          "text": [
            "[6.037206614805418, 6.176997209659224, 6.209222461782499, 5.532831003081899, 5.532831003081899, 6.209222461782499]\n"
          ]
        }
      ],
      "source": [
        "#K-Means 5 times\n",
        "!curl -s https://raw.githubusercontent.com/cs472ta/CS472/master/datasets/iris.arff --output iris.arff\n",
        "iris_data = arff.loadarff('iris.arff')\n",
        "iris_df = pd.DataFrame(iris_data[0])\n",
        "iris_df = iris_df.iloc[: , :-1]\n",
        "iris_norm =np.array(normalize_data(iris_df))\n",
        "\n",
        "sse = []\n",
        "for i in range(6):\n",
        "  clf = KMEANSClustering(k=4, debug=False)\n",
        "\n",
        "  res = clf.fit(iris_norm)\n",
        "  res.score()\n",
        "  sse.append(res.get_total_sse())\n",
        "\n",
        "print(sse)"
      ]
    },
    {
      "cell_type": "markdown",
      "metadata": {
        "id": "G9_mLwXZXCRz"
      },
      "source": [
        "Discuss any variations in the results"
      ]
    },
    {
      "cell_type": "markdown",
      "metadata": {
        "id": "oBBmeNQ7jvcQ"
      },
      "source": [
        "## 3.1 (12.5%) Run the SK versions of HAC (both single and complete link) on iris including the output label and compare your results with those above.\n",
        "Use the silhouette score for this iris problem(k = 2-7).  You may write your own code to do silhouette (optional extra credit) or you can use sklearn.metrics.silhouette_score. Please state if you coded your own silhouette score function to receive the extra credit points (described below). Discuss how helpful Silhouette appeared to be for selecting which clustering is best. You do not need to supply full Silhouette graphs, but you could if you wanted to.\n",
        "\n",
        "Requirements\n",
        "- Use the Sillhouette score for this iris problem (k= 2-7) \n",
        "- Use at least one other scoring function from [sklearn.metrics](https://scikit-learn.org/stable/modules/model_evaluation.html) and compare the results. State which metric was used. \n",
        "- Possible sklean metrics include (* metrics require ground truth labels):\n",
        "    - adjusted_mutual_info_score*\n",
        "    - adjusted_rand_score*\n",
        "    - homogeneity_score*\n",
        "    - completeness_score*\n",
        "    - fowlkes_mallows_score*\n",
        "    - calinski_harabasz_score\n",
        "    - davies_bouldin_score\n",
        "- Experiment using different hyper-parameters. Discuss Results"
      ]
    },
    {
      "cell_type": "code",
      "execution_count": 150,
      "metadata": {
        "id": "OFQv70W2VyqJ"
      },
      "outputs": [
        {
          "name": "stdout",
          "output_type": "stream",
          "text": [
            "HAC COMPLETE LINK\n",
            "0.3039130905811038\n",
            "0.5030674466509137\n",
            "0.3931866272687035\n",
            "0.3367877805272903\n",
            "0.32918681244067777\n",
            "0.32443653746679096\n",
            "HAC SINGLE LINK\n",
            "0.6294675561906643\n",
            "0.530889323901593\n",
            "0.38826644091020684\n",
            "0.2051017399323444\n",
            "0.16046278106948023\n",
            "0.1093656643022919\n",
            "K MEANS\n",
            "0.6294675561906643\n",
            "0.5043188549150883\n",
            "0.44462733006506794\n",
            "0.3519128932471106\n",
            "0.3552385754421147\n",
            "0.346315550277426\n"
          ]
        }
      ],
      "source": [
        "# Load sklearn\n",
        "\n",
        "\n",
        "!curl -s https://raw.githubusercontent.com/cs472ta/CS472/master/datasets/iris.arff --output iris.arff\n",
        "iris_data = arff.loadarff('iris.arff')\n",
        "iris_df = pd.DataFrame(iris_data[0])\n",
        "iris_df = iris_df.iloc[: , :-1]\n",
        "iris_norm =np.array(normalize_data(iris_df))\n",
        "\n",
        "print('HAC COMPLETE LINK')\n",
        "for i in range(2,8):\n",
        "  clustering = AgglomerativeClustering(n_clusters=i, linkage='complete')\n",
        "  clustering.fit_predict(iris_norm)\n",
        "  print(silhouette_score(iris_norm, clustering.labels_, metric='euclidean'))\n",
        "  \n",
        "print('HAC SINGLE LINK')\n",
        "for i in range(2,8):\n",
        "  clustering = AgglomerativeClustering(n_clusters=i, linkage='single')\n",
        "  clustering.fit_predict(iris_norm)\n",
        "  print(silhouette_score(iris_norm, clustering.labels_, metric='euclidean'))\n",
        "\n",
        "print('K MEANS')\n",
        "for i in range(2,8):\n",
        "  km = KMeans(n_clusters=i, random_state=42)\n",
        "  km.fit_predict(iris_norm)\n",
        "  print(silhouette_score(iris_norm, km.labels_, metric='euclidean'))\n",
        "# for i in range(2,8):\n",
        "\n"
      ]
    },
    {
      "cell_type": "markdown",
      "metadata": {
        "id": "BqSFAXwlk3Ms"
      },
      "source": [
        "*Record impressions*"
      ]
    },
    {
      "cell_type": "markdown",
      "metadata": {
        "id": "5OWeycyLXCR0"
      },
      "source": [
        "## 3.2 (12.5%) Run the SK version of k-means on iris including the output label and compare your results with those above. \n",
        "\n",
        "Use the silhouette score for this iris problem(k = 2-7). You may write your own code to do silhouette (optional extra credit) or you can use sklearn.metrics.silhouette_score. Please state if you coded your own silhouette score function to receive the extra credit points (described below). Discuss how helpful Silhouette appeared to be for selecting which clustering is best. You do not need to supply full Silhouette graphs, but you could if you wanted to.\n",
        "\n",
        "Requirements\n",
        "- Use the Sillhouette score for this iris problem (k= 2-7) \n",
        "- Use at least one other scoring function form sklearn.metrics and compare the results. State which metric was used\n",
        "- Experiment different hyper-parameters. Discuss Results"
      ]
    },
    {
      "cell_type": "code",
      "execution_count": 151,
      "metadata": {
        "id": "H5IGOeXUXCR0"
      },
      "outputs": [
        {
          "name": "stdout",
          "output_type": "stream",
          "text": [
            "HAC\n",
            "0.7989868807602943\n",
            "K MEANS\n",
            "0.6972646156059464\n"
          ]
        }
      ],
      "source": [
        "# Load sklearn \n",
        "from sklearn import datasets\n",
        "cancer_data = datasets.load_breast_cancer()\n",
        "X = cancer_data.data\n",
        "print('HAC')\n",
        "clustering = AgglomerativeClustering(n_clusters=2, linkage='single')\n",
        "clustering.fit_predict(X)\n",
        "print(silhouette_score(X, clustering.labels_, metric='euclidean'))\n",
        "\n",
        "print('K MEANS')\n",
        "km = KMeans(n_clusters=2, n_init=10, max_iter=600, algorithm=\"auto\", tol=1e-3)\n",
        "km.fit_predict(X)\n",
        "print(silhouette_score(X, km.labels_, metric='euclidean'))\n"
      ]
    },
    {
      "cell_type": "markdown",
      "metadata": {
        "id": "2SFIDtKEXCR0"
      },
      "source": [
        "*Record impressions*"
      ]
    },
    {
      "cell_type": "markdown",
      "metadata": {
        "id": "cTlK-kijk8Mg"
      },
      "source": [
        "## 4. (Optional 5% extra credit) For your silhouette experiment above, write and use your own code to calculate the silhouette scores, rather than the SK or other version. \n"
      ]
    },
    {
      "cell_type": "markdown",
      "metadata": {
        "id": "Gi1o5tX6XCR1"
      },
      "source": [
        "*Show findings here*"
      ]
    },
    {
      "cell_type": "code",
      "execution_count": null,
      "metadata": {
        "id": "jrczoZSXXCR1"
      },
      "outputs": [],
      "source": [
        "# Copy function Below"
      ]
    }
  ],
  "metadata": {
    "colab": {
      "collapsed_sections": [],
      "name": "lab 1 - perceptron",
      "provenance": []
    },
    "kernelspec": {
      "display_name": "Python 3",
      "language": "python",
      "name": "python3"
    },
    "language_info": {
      "codemirror_mode": {
        "name": "ipython",
        "version": 3
      },
      "file_extension": ".py",
      "mimetype": "text/x-python",
      "name": "python",
      "nbconvert_exporter": "python",
      "pygments_lexer": "ipython3",
      "version": "3.9.1"
    }
  },
  "nbformat": 4,
  "nbformat_minor": 0
}
