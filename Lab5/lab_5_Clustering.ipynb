{
  "cells": [
    {
      "cell_type": "markdown",
      "metadata": {
        "id": "DVL7_bgmIAPR"
      },
      "source": [
        "# Unsupervised Learning: Clustering Lab\n",
        "\n",
        "\n",
        "\n"
      ]
    },
    {
      "cell_type": "code",
      "execution_count": 2,
      "metadata": {
        "id": "6ZbYjZZZ_yLV"
      },
      "outputs": [],
      "source": [
        "from sklearn.base import BaseEstimator, ClassifierMixin\n",
        "from sklearn.cluster import AgglomerativeClustering, KMeans\n",
        "from sklearn.metrics import silhouette_score\n",
        "from scipy.io import arff\n",
        "import numpy as np\n",
        "import pandas as pd\n",
        "import matplotlib.pyplot as plt"
      ]
    },
    {
      "cell_type": "markdown",
      "metadata": {
        "id": "sCcEPx5VIORj"
      },
      "source": [
        "## 1. (50%) Implement the k-means clustering algorithm and the HAC (Hierarchical Agglomerative Clustering) algorithm.\n",
        "\n",
        "### 1.1.1 HAC\n",
        "\n",
        "### Code requirements \n",
        "- HAC should support both single link and complete link options.\n",
        "- HAC automatically generates all clusterings from n to 1.  To simplify the amount of output you may want to implement a mechanism to specify for which k values actual output will be generated.\n",
        "\n",
        "\n",
        "---\n",
        "The output should include the following:\n",
        "- The number of clusters (k).\n",
        "- The silhouette score of the full clustering. (You can either write and use your own silhouette_score function (extra credit) or use sklearn's)\n",
        "\n",
        "\n",
        "For each cluster report include:\n",
        "\n",
        "\n",
        "- The centroid id.\n",
        "- The number of instances tied to that centroid. \n",
        "---"
      ]
    },
    {
      "cell_type": "code",
      "execution_count": 47,
      "metadata": {
        "id": "_a2KSZ_7AN0G"
      },
      "outputs": [],
      "source": [
        "class HACClustering(BaseEstimator,ClassifierMixin):\n",
        "\n",
        "    def __init__(self,k=3,link_type='single'): ## add parameters here\n",
        "        \"\"\"\n",
        "        Args:\n",
        "            k = how many final clusters to have\n",
        "            link_type = single or complete. when combining two clusters use complete link or single link\n",
        "        \"\"\"\n",
        "        self.link_type = link_type\n",
        "        self.k = k\n",
        "        self.clusters = []\n",
        "        \n",
        "    def fit(self, X, y=None):\n",
        "        \"\"\" Fit the data; In this lab this will make the K clusters :D\n",
        "        Args:\n",
        "            X (array-like): A 2D numpy array with the training data\n",
        "            y (array-like): An optional argument. Clustering is usually unsupervised so you don't need labels\n",
        "        Returns:\n",
        "            self: this allows this to be chained, e.g. model.fit(X,y).predict(X_test)\n",
        "        \"\"\"\n",
        "        cluster_arr = [np.asarray([item]) for item in X]\n",
        "        self.clusters = cluster_arr\n",
        "        is_done = False\n",
        "        while not is_done:\n",
        "          # print('clusters: ', len(self.clusters))\n",
        "          if len(self.clusters) == self.k:\n",
        "            is_done = True\n",
        "            break\n",
        "          if self.link_type == 'single':\n",
        "            self.clusters = self.single_cluster(self.clusters)\n",
        "          else:\n",
        "            self.clusters = self.cluster_complete_link(self.clusters)\n",
        "        return self\n",
        "\n",
        "    def score(self):\n",
        "      centroids = []\n",
        "      # print number of clusters\n",
        "      print(len(self.clusters))\n",
        "\n",
        "      sse = []\n",
        "      total_sse = 0\n",
        "      # find centroids\n",
        "      for i in range(len(self.clusters)):\n",
        "        centroid = np.mean(self.clusters[i], axis=0)\n",
        "        centroids.append(centroid)\n",
        "        # find cluster sse\n",
        "        tmp = np.linalg.norm(self.clusters[i] - centroid)\n",
        "        squared_err = tmp**2\n",
        "        sse.append(np.sum(squared_err))\n",
        "        total_sse += squared_err\n",
        "\n",
        "      # print results\n",
        "      print(total_sse, '\\n')\n",
        "      for i in range(len(self.clusters)):\n",
        "        print(centroids[i])\n",
        "        print(len(self.clusters[i]))\n",
        "        print(sse[i], '\\n')\n",
        "    \n",
        "    def single_cluster(self, clusters):\n",
        "      distances = []\n",
        "      cluster_indexes = []\n",
        "      for i in range(len(clusters)):\n",
        "        tmp_dist = []\n",
        "        for j in range(len(clusters)):\n",
        "          min_dist = np.inf\n",
        "          if i == j:\n",
        "            tmp_dist.append(np.inf)\n",
        "            continue\n",
        "          if len(clusters[i]) > 1:\n",
        "            # check if j is also a cluster\n",
        "            if len(clusters[j]) > 1:\n",
        "            # calc distance between the two clusters\n",
        "              for k in range(len(clusters[i])):\n",
        "                for l in range(len(clusters[j])):\n",
        "                  dist = np.linalg.norm(clusters[i][k] - clusters[j][l])\n",
        "                  if dist < min_dist:\n",
        "                    min_dist = dist\n",
        "            else: \n",
        "              for k in range(len(clusters[i])):\n",
        "                dist = np.linalg.norm(clusters[i][k] - clusters[j])\n",
        "                if dist < min_dist:\n",
        "                  min_dist = dist\n",
        "          else: \n",
        "            if len(clusters[j]) > 1:\n",
        "            # i is single cluster, j has more than one\n",
        "              for k in range(len(clusters[j])):\n",
        "                dist = np.linalg.norm(clusters[i] - clusters[j][k])\n",
        "                if dist < min_dist:\n",
        "                  min_dist = dist\n",
        "            else:\n",
        "              min_dist = np.linalg.norm(clusters[i] - clusters[j])\n",
        "          tmp_dist.append(min_dist)\n",
        "        min_val = min(tmp_dist)\n",
        "        index = tmp_dist.index(min(tmp_dist))\n",
        "        distances.append(min_val)\n",
        "        cluster_indexes.append(index)\n",
        "      \n",
        "      best_dist = min(distances)\n",
        "      dist_index = distances.index(best_dist)\n",
        "      prev_index = cluster_indexes[dist_index]\n",
        "      \n",
        "      comb_arr = clusters[prev_index]\n",
        "      comb_arr = np.append(clusters[dist_index], np.array(clusters[prev_index]), axis=0)\n",
        "      clusters[dist_index] = comb_arr\n",
        "      new_clusters = np.delete(clusters, prev_index)\n",
        "      # clusters[prev_index].pop()\n",
        "      return new_clusters\n",
        "\n",
        "    def cluster_complete_link(self, clusters):\n",
        "      distances = []\n",
        "      cluster_indexes = []\n",
        "      for i in range(len(clusters)):\n",
        "        tmp_dist = []\n",
        "        for j in range(len(clusters)):\n",
        "          min_dist = np.inf\n",
        "          if i == j:\n",
        "            tmp_dist.append(np.inf)\n",
        "            continue\n",
        "          if len(clusters[i]) > 1:\n",
        "            # check if j is also a cluster\n",
        "            if len(clusters[j]) > 1:\n",
        "            # calc distance between the two clusters\n",
        "              for k in range(len(clusters[i])):\n",
        "                for l in range(len(clusters[j])):\n",
        "                  dist = np.linalg.norm(clusters[i][k] - clusters[j][l])\n",
        "                  if dist > min_dist:\n",
        "                    min_dist = dist\n",
        "            else: \n",
        "              for k in range(len(clusters[i])):\n",
        "                dist = np.linalg.norm(clusters[i][k] - clusters[j])\n",
        "                if dist > min_dist:\n",
        "                  min_dist = dist\n",
        "          else: \n",
        "            if len(clusters[j]) > 1:\n",
        "            # i is single cluster, j has more than one\n",
        "              for k in range(len(clusters[j])):\n",
        "                dist = np.linalg.norm(clusters[i] - clusters[j][k])\n",
        "                if dist > min_dist:\n",
        "                  min_dist = dist\n",
        "            else:\n",
        "              min_dist = np.linalg.norm(clusters[i] - clusters[j])\n",
        "          tmp_dist.append(min_dist)\n",
        "        min_val = min(tmp_dist)\n",
        "        index = tmp_dist.index(min(tmp_dist))\n",
        "        distances.append(min_val)\n",
        "        cluster_indexes.append(index)\n",
        "      \n",
        "      best_dist = min(distances)\n",
        "      dist_index = distances.index(best_dist)\n",
        "      prev_index = cluster_indexes[dist_index]\n",
        "      \n",
        "      comb_arr = clusters[prev_index]\n",
        "      comb_arr = np.append(clusters[dist_index], np.array(clusters[prev_index]), axis=0)\n",
        "      clusters[dist_index] = comb_arr\n",
        "      new_clusters = np.delete(clusters, prev_index)\n",
        "      return new_clusters\n",
        "                \n",
        "    \n",
        "    def print_clusters(self):\n",
        "      \"\"\"\n",
        "        Used for grading.\n",
        "        print(\"Num clusters: {:d}\\n\".format(k))\n",
        "        print(\"Silhouette score: {:.4f}\\n\\n\".format(silhouette_score))\n",
        "        for each cluster and centroid:\n",
        "          print(np.array2string(centroid,precision=4,separator=\",\"))\n",
        "          print(\"{:d}\\n\".format(size of cluster))\n",
        "      \"\"\"\n",
        "      pass"
      ]
    },
    {
      "cell_type": "markdown",
      "metadata": {
        "id": "KibCIXIThpbE"
      },
      "source": [
        "### 1.1.2 Debug \n",
        "\n",
        "Debug your model by running it on the [Debug Dataset](https://raw.githubusercontent.com/cs472ta/CS472/master/datasets/abalone.arff)\n",
        "\n",
        "\n",
        "---\n",
        "The dataset was modified to be a lot smaller. The last datapoint should be on line 359 or the point 0.585,0.46,0.185,0.922,0.3635,0.213,0.285,10. The remaining points should be commented out.\n",
        "\n",
        "\n",
        "- Make sure to include the output class (last column) as an additional input feature\n",
        "- Normalize Data\n",
        "- K = 5\n",
        "- Use 4 decimal places and DO NOT ROUND when reporting silhouette score and centroid values.\n",
        "\n",
        "\n",
        "---\n",
        "Solutions in files:\n",
        "\n",
        "[Debug HAC Single (Silhouette).txt](https://raw.githubusercontent.com/cs472ta/CS472/master/debug_solutions/Debug%20HAC%20Single%20Link%20%28Silhouette%29.txt)\n",
        "\n",
        "[Debug HAC Complete (Silhouette).txt](https://raw.githubusercontent.com/cs472ta/CS472/master/debug_solutions/Debug%20HAC%20Complete%20Link%20%28Silhouette%29.txt)"
      ]
    },
    {
      "cell_type": "code",
      "execution_count": 4,
      "metadata": {},
      "outputs": [],
      "source": [
        "def normalize_data(inputs):\n",
        "  xmin = inputs.min(axis=0)\n",
        "  xmax = inputs.max(axis=0)\n",
        "  return (inputs-xmin)/(xmax-xmin)"
      ]
    },
    {
      "cell_type": "code",
      "execution_count": 48,
      "metadata": {
        "id": "5IBV-YkVXCRt"
      },
      "outputs": [
        {
          "name": "stderr",
          "output_type": "stream",
          "text": [
            "/Users/alexheiner/Desktop/Fall2021/CS472/CS472-Labs/.venv/lib/python3.9/site-packages/numpy/lib/function_base.py:4454: VisibleDeprecationWarning: Creating an ndarray from ragged nested sequences (which is a list-or-tuple of lists-or-tuples-or ndarrays with different lengths or shapes) is deprecated. If you meant to do this, you must specify 'dtype=object' when creating the ndarray.\n",
            "  arr = asarray(arr)\n"
          ]
        },
        {
          "name": "stdout",
          "output_type": "stream",
          "text": [
            "5\n",
            "0.183020684438721 \n",
            "\n",
            "[0.97297297 0.96629213 0.85526316 0.88224206 0.83113208 0.94574369\n",
            " 0.65075377 0.58823529]\n",
            "2\n",
            "0.11098582696147233 \n",
            "\n",
            "[0.88738739 0.85955056 0.77631579 0.6202381  0.52476415 0.71375117\n",
            " 0.53266332 0.47058824]\n",
            "2\n",
            "0.03216775470062799 \n",
            "\n",
            "[0.62612613 0.64606742 0.56578947 0.3610119  0.43584906 0.38961646\n",
            " 0.23115578 0.29411765]\n",
            "2\n",
            "0.025182529101247787 \n",
            "\n",
            "[0.72522523 0.73033708 0.65789474 0.37619048 0.36462264 0.49204864\n",
            " 0.28643216 0.32352941]\n",
            "2\n",
            "0.006923140753305043 \n",
            "\n",
            "[0.77927928 0.75842697 0.73684211 0.37271825 0.36698113 0.38727783\n",
            " 0.29648241 0.35294118]\n",
            "2\n",
            "0.007761432922067825 \n",
            "\n"
          ]
        }
      ],
      "source": [
        "# Debug Here\n",
        "!curl -s https://raw.githubusercontent.com/cs472ta/CS472/master/datasets/abalone.arff --output debug.arff\n",
        "# Train on training set\n",
        "debug_data = arff.loadarff('debug.arff')\n",
        "debug_np = np.array(debug_data[0])\n",
        "debug_norm = np.array(normalize_data(pd.DataFrame(debug_np)))\n",
        "\n",
        "clf = HACClustering(k=5, link_type='complete')\n",
        "res = clf.fit(debug_norm)\n",
        "res.score()"
      ]
    },
    {
      "cell_type": "markdown",
      "metadata": {
        "id": "kY3VNB1ui03N"
      },
      "source": [
        "### 1.1.3 Evaluation\n",
        "\n",
        "We will evaluate your model based on its print_clusters() output using [Evaluation Dataset](https://raw.githubusercontent.com/cs472ta/CS472/master/datasets/seismic-bumps_train.arff)\n",
        "\n",
        "- Make sure to include the output class (last column) as an additional input feature\n",
        "- Normalize Data\n",
        "- K = 5\n",
        "- Use 4 decimal places and DO NOT ROUND when reporting silhouette score and centroid values."
      ]
    },
    {
      "cell_type": "markdown",
      "metadata": {
        "id": "oMxalNI-XCRu"
      },
      "source": [
        "#### 1.1.3.1 Complete Link"
      ]
    },
    {
      "cell_type": "code",
      "execution_count": null,
      "metadata": {
        "id": "2yAxA78QjDh2"
      },
      "outputs": [],
      "source": [
        "# Load evaluation data\n",
        "\n",
        "# Train on evaluation data using complete link\n",
        "\n",
        "# Print clusters"
      ]
    },
    {
      "cell_type": "markdown",
      "metadata": {
        "id": "PtzHMZnHXCRu"
      },
      "source": [
        "#### 1.1.3.1 Single Link"
      ]
    },
    {
      "cell_type": "code",
      "execution_count": null,
      "metadata": {
        "id": "0Jh6vYeCXCRv"
      },
      "outputs": [],
      "source": [
        "# Load evaluation data\n",
        "\n",
        "# Train on evaluation data using single link\n",
        "\n",
        "# Print clusters"
      ]
    },
    {
      "cell_type": "markdown",
      "metadata": {
        "id": "-EOkBzaUXCRv"
      },
      "source": [
        "### 1.2.1 K-Means\n",
        "\n",
        "### Code requirements \n",
        "- Ability to choose k and specify k initial centroids\n",
        "- Use Euclidean Distance as metric\n",
        "- Ability to handle distance ties\n",
        "- Include output label as a cluster feature\n",
        "\n",
        "\n",
        "---\n",
        "The output should include the following:\n",
        "- The number of clusters (k).\n",
        "- The silhouette score of the full clustering. (You can either write and use your own silhouette_score function (extra credit) or use sklearn's)\n",
        "\n",
        "\n",
        "For each cluster report include:\n",
        "\n",
        "\n",
        "- The centroid id.\n",
        "- The number of instances tied to that centroid. \n",
        "---\n",
        "You only need to handle continuous features"
      ]
    },
    {
      "cell_type": "code",
      "execution_count": 4,
      "metadata": {
        "id": "J1KYATRKXCRv"
      },
      "outputs": [],
      "source": [
        "class KMEANSClustering(BaseEstimator,ClassifierMixin):\n",
        "\n",
        "    def __init__(self,k=3,debug=False): ## add parameters here\n",
        "        \"\"\"\n",
        "        Args:\n",
        "            k = how many final clusters to have\n",
        "            debug = if debug is true use the first k instances as the initial centroids otherwise choose random points as the initial centroids.\n",
        "        \"\"\"\n",
        "        self.k = k\n",
        "        self.debug = debug\n",
        "\n",
        "    def fit(self, X, y=None):\n",
        "        \"\"\" Fit the data; In this lab this will make the K clusters :D\n",
        "        Args:\n",
        "            X (array-like): A 2D numpy array with the training data\n",
        "            y (array-like): An optional argument. Clustering is usually unsupervised so you don't need labels\n",
        "        Returns:\n",
        "            self: this allows this to be chained, e.g. model.fit(X,y).predict(X_test)\n",
        "        \"\"\"\n",
        "        return self\n",
        "    \n",
        "    def print_clusters(self):\n",
        "        \"\"\"\n",
        "            Used for grading.\n",
        "            print(\"Num clusters: {:d}\\n\".format(k))\n",
        "            print(\"Silhouette score: {:.4f}\\n\\n\".format(silhouette_score))\n",
        "            for each cluster and centroid:\n",
        "                print(np.array2string(centroid,precision=4,separator=\",\"))\n",
        "                print(\"{:d}\\n\".format(size of cluster))\n",
        "        \"\"\"\n",
        "        pass"
      ]
    },
    {
      "cell_type": "markdown",
      "metadata": {
        "id": "VgGThkhwXCRv"
      },
      "source": [
        "### 1.2.2 Debug \n",
        "\n",
        "Debug your model by running it on the [Debug Dataset](https://raw.githubusercontent.com/cs472ta/CS472/master/datasets/abalone.arff)\n",
        "\n",
        "\n",
        "- Train until convergence\n",
        "- Make sure to include the output class (last column) as an additional input feature\n",
        "- Normalize Data\n",
        "- K = 5\n",
        "- Use the first k instances as the initial centroids\n",
        "- Use 4 decimal places and DO NOT ROUND when reporting silhouette score and centroid values\n",
        "\n",
        "\n",
        "\n",
        "\n",
        "---\n",
        "Solutions in files:\n",
        "\n",
        "[Debug K Means (Silhouette).txt](https://raw.githubusercontent.com/cs472ta/CS472/master/debug_solutions/Debug%20K%20Means%20%28Silhouette%29.txt)"
      ]
    },
    {
      "cell_type": "code",
      "execution_count": null,
      "metadata": {
        "id": "KgAyy82gixIF"
      },
      "outputs": [],
      "source": [
        "# Load debug data\n",
        "\n",
        "# Train on debug data\n",
        "\n",
        "# Print clusters"
      ]
    },
    {
      "cell_type": "markdown",
      "metadata": {
        "id": "Jh507BaLXCRw"
      },
      "source": [
        "### 1.2.3 Evaluation\n",
        "\n",
        "We will evaluate your model based on its print_clusters() output using [Evaluation Dataset](https://raw.githubusercontent.com/cs472ta/CS472/master/datasets/seismic-bumps_train.arff)\n",
        "- Train until convergence\n",
        "- Make sure to include the output class (last column) as an additional input feature\n",
        "- Normalize Data\n",
        "- K = 5\n",
        "- Use the first k instances as the initial centroids\n",
        "- Use 4 decimal places and DO NOT ROUND when reporting silhouette score and centroid values"
      ]
    },
    {
      "cell_type": "code",
      "execution_count": null,
      "metadata": {
        "id": "EGZwBrplXCRx"
      },
      "outputs": [],
      "source": [
        "# Load evaluation data\n",
        "\n",
        "# Train on evaluation data\n",
        "\n",
        "# Print clusters"
      ]
    },
    {
      "cell_type": "markdown",
      "metadata": {
        "id": "9vWiTdlbR2Xh"
      },
      "source": [
        "## 2.1.1 (7.5%) Clustering the Iris Classification problem - HAC\n",
        "\n",
        "Load the Iris Dataset [Iris Dataset](https://raw.githubusercontent.com/cs472ta/CS472/master/datasets/iris.arff)\n",
        "\n",
        "- Use single-link and complete link clustering algorithms\n",
        "- State whether you normalize your data or not (your choice).  \n",
        "- Show your results for clusterings using k = 2-7.  \n",
        "- Graph the silhouette score for each k and discuss your results (i.e. what kind of clusters are being made).\n",
        "---"
      ]
    },
    {
      "cell_type": "code",
      "execution_count": null,
      "metadata": {
        "id": "4SSoasDQSKXb"
      },
      "outputs": [],
      "source": [
        "# Iris Classification using single-link"
      ]
    },
    {
      "cell_type": "code",
      "execution_count": null,
      "metadata": {
        "id": "-lcM9J9JXCRx"
      },
      "outputs": [],
      "source": [
        "# Iris Classification using complete-link"
      ]
    },
    {
      "cell_type": "markdown",
      "metadata": {
        "id": "ev90JsvjXCRy"
      },
      "source": [
        "Discuss differences between single-link and complete-link"
      ]
    },
    {
      "cell_type": "markdown",
      "metadata": {
        "id": "JJDn-RrtXCRy"
      },
      "source": [
        "## 2.1.2 (5%) Clustering the Iris Classification problem - HAC\n",
        "\n",
        "Requirements:\n",
        "- Repeat excercise 2.1.1 and include the output label as one of the input features."
      ]
    },
    {
      "cell_type": "code",
      "execution_count": null,
      "metadata": {
        "id": "FNZj0VjrXCRy"
      },
      "outputs": [],
      "source": [
        "# Clustering Labels using single-link"
      ]
    },
    {
      "cell_type": "code",
      "execution_count": null,
      "metadata": {
        "id": "r8Tgs4xBXCRy"
      },
      "outputs": [],
      "source": [
        "# Clustering Labels using complete-link"
      ]
    },
    {
      "cell_type": "markdown",
      "metadata": {
        "id": "oHe1qpNsXCRy"
      },
      "source": [
        "Discuss any differences between the results from 2.1.1 and 2.1.2."
      ]
    },
    {
      "cell_type": "markdown",
      "metadata": {
        "id": "myLp3nhOXCRy"
      },
      "source": [
        "## 2.2.1 (7.5%) Clustering the Iris Classification problem: K-Means\n",
        "\n",
        "Load the Iris Dataset [Iris Dataset](https://raw.githubusercontent.com/cs472ta/CS472/master/datasets/iris.arff)\n",
        "\n",
        "Run K-Means on the Iris dataset using the output label as a feature and without using the output label as a feature\n",
        "\n",
        "Requirements:\n",
        "- State whether you normalize your data or not (your choice).  \n",
        "- Show your results for clusterings using k = 2-7.  \n",
        "- Graph the silhouette score for each k and discuss your results (i.e. what kind of clusters are being made).\n",
        "---"
      ]
    },
    {
      "cell_type": "code",
      "execution_count": null,
      "metadata": {
        "id": "XcWCgFb4XCRz"
      },
      "outputs": [],
      "source": [
        "# Iris Classification without output label"
      ]
    },
    {
      "cell_type": "code",
      "execution_count": null,
      "metadata": {
        "id": "i62njzqqXCRz"
      },
      "outputs": [],
      "source": [
        "# Iris Classification with output label"
      ]
    },
    {
      "cell_type": "markdown",
      "metadata": {
        "id": "n6Zw0eAOXCRz"
      },
      "source": [
        "Compare results and differences between using the output label and excluding the output label"
      ]
    },
    {
      "cell_type": "markdown",
      "metadata": {
        "id": "aDdAadpVXCRz"
      },
      "source": [
        "## 2.2.2 (5%) Clustering the Iris Classification problem: K-Means\n",
        "\n",
        "Requirements:\n",
        "- Use the output label as an input feature\n",
        "- Run K-Means 5 times with k=4, each time with different initial random centroids and discuss any variations in the results. "
      ]
    },
    {
      "cell_type": "code",
      "execution_count": null,
      "metadata": {
        "id": "P3r8kad0XCRz"
      },
      "outputs": [],
      "source": [
        "#K-Means 5 times"
      ]
    },
    {
      "cell_type": "markdown",
      "metadata": {
        "id": "G9_mLwXZXCRz"
      },
      "source": [
        "Discuss any variations in the results"
      ]
    },
    {
      "cell_type": "markdown",
      "metadata": {
        "id": "oBBmeNQ7jvcQ"
      },
      "source": [
        "## 3.1 (12.5%) Run the SK versions of HAC (both single and complete link) on iris including the output label and compare your results with those above.\n",
        "Use the silhouette score for this iris problem(k = 2-7).  You may write your own code to do silhouette (optional extra credit) or you can use sklearn.metrics.silhouette_score. Please state if you coded your own silhouette score function to receive the extra credit points (described below). Discuss how helpful Silhouette appeared to be for selecting which clustering is best. You do not need to supply full Silhouette graphs, but you could if you wanted to.\n",
        "\n",
        "Requirements\n",
        "- Use the Sillhouette score for this iris problem (k= 2-7) \n",
        "- Use at least one other scoring function from [sklearn.metrics](https://scikit-learn.org/stable/modules/model_evaluation.html) and compare the results. State which metric was used. \n",
        "- Possible sklean metrics include (* metrics require ground truth labels):\n",
        "    - adjusted_mutual_info_score*\n",
        "    - adjusted_rand_score*\n",
        "    - homogeneity_score*\n",
        "    - completeness_score*\n",
        "    - fowlkes_mallows_score*\n",
        "    - calinski_harabasz_score\n",
        "    - davies_bouldin_score\n",
        "- Experiment using different hyper-parameters. Discuss Results"
      ]
    },
    {
      "cell_type": "code",
      "execution_count": null,
      "metadata": {
        "id": "OFQv70W2VyqJ"
      },
      "outputs": [],
      "source": [
        "# Load sklearn\n",
        "\n"
      ]
    },
    {
      "cell_type": "markdown",
      "metadata": {
        "id": "BqSFAXwlk3Ms"
      },
      "source": [
        "*Record impressions*"
      ]
    },
    {
      "cell_type": "markdown",
      "metadata": {
        "id": "5OWeycyLXCR0"
      },
      "source": [
        "## 3.2 (12.5%) Run the SK version of k-means on iris including the output label and compare your results with those above. \n",
        "\n",
        "Use the silhouette score for this iris problem(k = 2-7). You may write your own code to do silhouette (optional extra credit) or you can use sklearn.metrics.silhouette_score. Please state if you coded your own silhouette score function to receive the extra credit points (described below). Discuss how helpful Silhouette appeared to be for selecting which clustering is best. You do not need to supply full Silhouette graphs, but you could if you wanted to.\n",
        "\n",
        "Requirements\n",
        "- Use the Sillhouette score for this iris problem (k= 2-7) \n",
        "- Use at least one other scoring function form sklearn.metrics and compare the results. State which metric was used\n",
        "- Experiment different hyper-parameters. Discuss Results"
      ]
    },
    {
      "cell_type": "code",
      "execution_count": null,
      "metadata": {
        "id": "H5IGOeXUXCR0"
      },
      "outputs": [],
      "source": [
        "# Load sklearn \n",
        "\n"
      ]
    },
    {
      "cell_type": "markdown",
      "metadata": {
        "id": "2SFIDtKEXCR0"
      },
      "source": [
        "*Record impressions*"
      ]
    },
    {
      "cell_type": "markdown",
      "metadata": {
        "id": "cTlK-kijk8Mg"
      },
      "source": [
        "## 4. (Optional 5% extra credit) For your silhouette experiment above, write and use your own code to calculate the silhouette scores, rather than the SK or other version. \n"
      ]
    },
    {
      "cell_type": "markdown",
      "metadata": {
        "id": "Gi1o5tX6XCR1"
      },
      "source": [
        "*Show findings here*"
      ]
    },
    {
      "cell_type": "code",
      "execution_count": null,
      "metadata": {
        "id": "jrczoZSXXCR1"
      },
      "outputs": [],
      "source": [
        "# Copy function Below"
      ]
    }
  ],
  "metadata": {
    "colab": {
      "collapsed_sections": [],
      "name": "lab 1 - perceptron",
      "provenance": []
    },
    "kernelspec": {
      "display_name": "Python 3",
      "language": "python",
      "name": "python3"
    },
    "language_info": {
      "codemirror_mode": {
        "name": "ipython",
        "version": 3
      },
      "file_extension": ".py",
      "mimetype": "text/x-python",
      "name": "python",
      "nbconvert_exporter": "python",
      "pygments_lexer": "ipython3",
      "version": "3.9.2"
    }
  },
  "nbformat": 4,
  "nbformat_minor": 0
}
