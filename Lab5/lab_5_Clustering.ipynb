{
  "cells": [
    {
      "cell_type": "markdown",
      "metadata": {
        "id": "DVL7_bgmIAPR"
      },
      "source": [
        "# Unsupervised Learning: Clustering Lab\n",
        "\n",
        "\n",
        "\n"
      ]
    },
    {
      "cell_type": "code",
      "execution_count": 64,
      "metadata": {
        "id": "6ZbYjZZZ_yLV"
      },
      "outputs": [],
      "source": [
        "from sklearn.base import BaseEstimator, ClassifierMixin\n",
        "from sklearn.cluster import AgglomerativeClustering, KMeans\n",
        "from sklearn.metrics import silhouette_score\n",
        "import random\n",
        "from sklearn import preprocessing\n",
        "from scipy.io import arff\n",
        "import numpy as np\n",
        "import pandas as pd\n",
        "import matplotlib.pyplot as plt"
      ]
    },
    {
      "cell_type": "markdown",
      "metadata": {
        "id": "sCcEPx5VIORj"
      },
      "source": [
        "## 1. (50%) Implement the k-means clustering algorithm and the HAC (Hierarchical Agglomerative Clustering) algorithm.\n",
        "\n",
        "### 1.1.1 HAC\n",
        "\n",
        "### Code requirements \n",
        "- HAC should support both single link and complete link options.\n",
        "- HAC automatically generates all clusterings from n to 1.  To simplify the amount of output you may want to implement a mechanism to specify for which k values actual output will be generated.\n",
        "\n",
        "\n",
        "---\n",
        "The output should include the following:\n",
        "- The number of clusters (k).\n",
        "- The silhouette score of the full clustering. (You can either write and use your own silhouette_score function (extra credit) or use sklearn's)\n",
        "\n",
        "\n",
        "For each cluster report include:\n",
        "\n",
        "\n",
        "- The centroid id.\n",
        "- The number of instances tied to that centroid. \n",
        "---"
      ]
    },
    {
      "cell_type": "code",
      "execution_count": 95,
      "metadata": {
        "id": "_a2KSZ_7AN0G"
      },
      "outputs": [],
      "source": [
        "class HACClustering(BaseEstimator,ClassifierMixin):\n",
        "\n",
        "    def __init__(self,k=3,link_type='single'): ## add parameters here\n",
        "        \"\"\"\n",
        "        Args:\n",
        "            k = how many final clusters to have\n",
        "            link_type = single or complete. when combining two clusters use complete link or single link\n",
        "        \"\"\"\n",
        "        self.link_type = link_type\n",
        "        self.k = k\n",
        "        self.clusters = []\n",
        "        \n",
        "    def fit(self, X, y=None):\n",
        "        \"\"\" Fit the data; In this lab this will make the K clusters :D\n",
        "        Args:\n",
        "            X (array-like): A 2D numpy array with the training data\n",
        "            y (array-like): An optional argument. Clustering is usually unsupervised so you don't need labels\n",
        "        Returns:\n",
        "            self: this allows this to be chained, e.g. model.fit(X,y).predict(X_test)\n",
        "        \"\"\"\n",
        "        cluster_arr = [np.asarray([item]) for item in X]\n",
        "        self.clusters = cluster_arr\n",
        "        is_done = False\n",
        "        while not is_done:\n",
        "          if len(self.clusters) == self.k:\n",
        "            is_done = True\n",
        "            break\n",
        "          self.clusters = self.update_clusters(self.clusters)\n",
        "        return self\n",
        "\n",
        "    def score(self):\n",
        "      self.sse = []\n",
        "      self.total_sse = 0\n",
        "      self.centroids = []\n",
        "      # find centroids\n",
        "      for i in range(len(self.clusters)):\n",
        "        centroid = np.mean(self.clusters[i], axis=0)\n",
        "        self.centroids.append(centroid)\n",
        "        # find cluster sse\n",
        "        tmp = np.linalg.norm(self.clusters[i] - centroid)\n",
        "        squared_err = tmp**2\n",
        "        self.sse.append(np.sum(squared_err))\n",
        "        self.total_sse += squared_err\n",
        "\n",
        "    def update_clusters(self, clusters):\n",
        "      distances = []\n",
        "      cluster_indexes = []\n",
        "      for i in range(len(clusters)):\n",
        "        tmp_dist = []\n",
        "        for j in range(len(clusters)):\n",
        "          min_dist = self.get_min()\n",
        "          # don't want to compare point to itself\n",
        "          if i == j:\n",
        "            tmp_dist.append(np.inf)\n",
        "            continue\n",
        "          if len(clusters[i]) > 1:\n",
        "            # check if j is also a cluster\n",
        "            if len(clusters[j]) > 1:\n",
        "            # calc distance between the two clusters\n",
        "              for k in range(len(clusters[i])):\n",
        "                for l in range(len(clusters[j])):\n",
        "                  dist = np.linalg.norm(clusters[i][k] - clusters[j][l])\n",
        "                  if self.get_should_update(dist, min_dist):\n",
        "                    min_dist = dist\n",
        "            else: \n",
        "              # calc distance between cluster with multiple points to single point\n",
        "              for k in range(len(clusters[i])):\n",
        "                dist = np.linalg.norm(clusters[i][k] - clusters[j])\n",
        "                if self.get_should_update(dist, min_dist):\n",
        "                    min_dist = dist\n",
        "          else: \n",
        "            if len(clusters[j]) > 1:\n",
        "            # i is single cluster, j has more than one\n",
        "              for k in range(len(clusters[j])):\n",
        "                dist = np.linalg.norm(clusters[i] - clusters[j][k])\n",
        "                if self.get_should_update(dist, min_dist):\n",
        "                    min_dist = dist\n",
        "            else:\n",
        "              # distance between two individual clusters\n",
        "              min_dist = np.linalg.norm(clusters[i] - clusters[j])\n",
        "          tmp_dist.append(min_dist)\n",
        "        # find minimum distance value\n",
        "        min_val = min(tmp_dist)\n",
        "        # find index of array of min distance\n",
        "        index = tmp_dist.index(min_val)\n",
        "        distances.append(min_val)\n",
        "        cluster_indexes.append(index)\n",
        "      \n",
        "      # find best overall distance\n",
        "      best_dist = min(distances)\n",
        "      dist_index = distances.index(best_dist)\n",
        "      prev_index = cluster_indexes[dist_index]\n",
        "      \n",
        "      # add point at shortest distance to cluster\n",
        "      comb_arr = clusters[prev_index]\n",
        "      comb_arr = np.append(clusters[dist_index], np.array(clusters[prev_index]), axis=0)\n",
        "      clusters[dist_index] = comb_arr\n",
        "      # delete cluster because it's been merged \n",
        "      new_clusters = np.delete(clusters, prev_index)\n",
        "      return new_clusters\n",
        "    \n",
        "    def get_min(self):\n",
        "      # depending on link type, want to get initial minimum value \n",
        "      if self.link_type == 'single':\n",
        "          return np.inf\n",
        "      if self.link_type == 'complete':\n",
        "          return 0\n",
        "\n",
        "    def get_should_update(self, new_dist, old_dist):\n",
        "      # if single link link update if new dist is **less** than old\n",
        "      if self.link_type == 'single' and new_dist < old_dist:\n",
        "        return True\n",
        "      # if complete link update if new dist is **greater** than old\n",
        "      if self.link_type == 'complete' and new_dist > old_dist:\n",
        "        return True\n",
        "      return False\n",
        "    \n",
        "    def print_clusters(self):\n",
        "      \"\"\"\n",
        "        Used for grading.\n",
        "        print(\"Num clusters: {:d}\\n\".format(k))\n",
        "        print(\"Silhouette score: {:.4f}\\n\\n\".format(silhouette_score))\n",
        "        for each cluster and centroid:\n",
        "          print(np.array2string(centroid,precision=4,separator=\",\"))\n",
        "          print(\"{:d}\\n\".format(size of cluster))\n",
        "      \"\"\"\n",
        "      # print results\n",
        "      print(\"Num clusters: {:d}\".format(len(self.clusters)))\n",
        "      print(\"SSE score: {:.4f}\\n\\n\".format(self.total_sse))\n",
        "      for i in range(len(self.clusters)):\n",
        "        print(np.array2string(self.centroids[i],precision=4,separator=\",\"))\n",
        "        print(\"{:d}\".format(len(self.clusters[i])))\n",
        "        print(\"{:.4f}\\n\".format(self.sse[i]))\n",
        "    \n",
        "    def get_total_sse(self):\n",
        "      return self.total_sse\n",
        "    "
      ]
    },
    {
      "cell_type": "markdown",
      "metadata": {
        "id": "KibCIXIThpbE"
      },
      "source": [
        "### 1.1.2 Debug \n",
        "\n",
        "Debug your model by running it on the [Debug Dataset](https://raw.githubusercontent.com/cs472ta/CS472/master/datasets/abalone.arff)\n",
        "\n",
        "\n",
        "---\n",
        "The dataset was modified to be a lot smaller. The last datapoint should be on line 359 or the point 0.585,0.46,0.185,0.922,0.3635,0.213,0.285,10. The remaining points should be commented out.\n",
        "\n",
        "\n",
        "- Make sure to include the output class (last column) as an additional input feature\n",
        "- Normalize Data\n",
        "- K = 5\n",
        "- Use 4 decimal places and DO NOT ROUND when reporting silhouette score and centroid values.\n",
        "\n",
        "\n",
        "---\n",
        "Solutions in files:\n",
        "\n",
        "[Debug HAC Single (Silhouette).txt](https://raw.githubusercontent.com/cs472ta/CS472/master/debug_solutions/Debug%20HAC%20Single%20Link%20%28Silhouette%29.txt)\n",
        "\n",
        "[Debug HAC Complete (Silhouette).txt](https://raw.githubusercontent.com/cs472ta/CS472/master/debug_solutions/Debug%20HAC%20Complete%20Link%20%28Silhouette%29.txt)"
      ]
    },
    {
      "cell_type": "code",
      "execution_count": 66,
      "metadata": {},
      "outputs": [],
      "source": [
        "def normalize_data(inputs):\n",
        "  xmin = inputs.min(axis=0)\n",
        "  xmax = inputs.max(axis=0)\n",
        "  return (inputs-xmin)/(xmax-xmin)"
      ]
    },
    {
      "cell_type": "code",
      "execution_count": 94,
      "metadata": {
        "id": "5IBV-YkVXCRt"
      },
      "outputs": [
        {
          "name": "stdout",
          "output_type": "stream",
          "text": [
            "COMPLETE LINK\n"
          ]
        },
        {
          "name": "stderr",
          "output_type": "stream",
          "text": [
            "/Users/alexheiner/Desktop/Fall2021/CS472/CS472-Labs/.venv/lib/python3.9/site-packages/numpy/lib/function_base.py:4454: VisibleDeprecationWarning: Creating an ndarray from ragged nested sequences (which is a list-or-tuple of lists-or-tuples-or ndarrays with different lengths or shapes) is deprecated. If you meant to do this, you must specify 'dtype=object' when creating the ndarray.\n",
            "  arr = asarray(arr)\n"
          ]
        },
        {
          "name": "stdout",
          "output_type": "stream",
          "text": [
            "Num clusters: 5\n",
            "SSE score: 0.0000\n",
            "\n",
            "\n",
            "[0.5946,0.618 ,0.6053,0.2944,0.3165,0.275 ,0.2362,0.4706]\n",
            "1\n",
            "0.0000\n",
            "\n",
            "[0.6036,0.6292,0.5789,0.2437,0.259 ,0.2591,0.201 ,0.4118]\n",
            "1\n",
            "0.0000\n",
            "\n",
            "[0.8468,0.8315,0.7632,0.5054,0.4094,0.4808,0.4573,0.7059]\n",
            "1\n",
            "0.0000\n",
            "\n",
            "[0.7027,0.7191,0.6316,0.354 ,0.3976,0.3209,0.2513,0.6471]\n",
            "1\n",
            "0.0000\n",
            "\n",
            "[0.7477,0.7416,0.7632,0.354 ,0.333 ,0.3863,0.2764,0.3529]\n",
            "1\n",
            "0.0000\n",
            "\n"
          ]
        }
      ],
      "source": [
        "# Debug Here\n",
        "!curl -s https://raw.githubusercontent.com/cs472ta/CS472/master/datasets/abalone.arff --output debug.arff\n",
        "# Train on training set\n",
        "debug_data = arff.loadarff('debug.arff')\n",
        "debug_np = np.array(debug_data[0])\n",
        "debug_norm = np.array(normalize_data(pd.DataFrame(debug_np)))\n",
        "\n",
        "# print('SINGLE LINK')\n",
        "# clf = HACClustering(k=5, link_type='single')\n",
        "# res = clf.fit(debug_norm)\n",
        "# res.score()\n",
        "# res.print_clusters()\n",
        "\n",
        "print('COMPLETE LINK')\n",
        "clf = HACClustering(k=5, link_type='complete')\n",
        "res = clf.fit(debug_norm)\n",
        "res.score()\n",
        "res.print_clusters()"
      ]
    },
    {
      "cell_type": "markdown",
      "metadata": {
        "id": "kY3VNB1ui03N"
      },
      "source": [
        "### 1.1.3 Evaluation\n",
        "\n",
        "We will evaluate your model based on its print_clusters() output using [Evaluation Dataset](https://raw.githubusercontent.com/cs472ta/CS472/master/datasets/seismic-bumps_train.arff)\n",
        "\n",
        "- Make sure to include the output class (last column) as an additional input feature\n",
        "- Normalize Data\n",
        "- K = 5\n",
        "- Use 4 decimal places and DO NOT ROUND when reporting silhouette score and centroid values."
      ]
    },
    {
      "cell_type": "markdown",
      "metadata": {
        "id": "oMxalNI-XCRu"
      },
      "source": [
        "#### 1.1.3.1 Complete Link"
      ]
    },
    {
      "cell_type": "markdown",
      "metadata": {
        "id": "PtzHMZnHXCRu"
      },
      "source": [
        "#### 1.1.3.1 Single Link"
      ]
    },
    {
      "cell_type": "code",
      "execution_count": 68,
      "metadata": {
        "id": "2yAxA78QjDh2"
      },
      "outputs": [
        {
          "name": "stdout",
          "output_type": "stream",
          "text": [
            "Num clusters: 5\n",
            "SSE score: 0.0000\n",
            "\n",
            "\n",
            "[0.5946,0.618 ,0.6053,0.2944,0.3165,0.275 ,0.2362,0.4706]\n",
            "1\n",
            "0.0000\n",
            "\n",
            "[0.6036,0.6292,0.5789,0.2437,0.259 ,0.2591,0.201 ,0.4118]\n",
            "1\n",
            "0.0000\n",
            "\n",
            "[0.8468,0.8315,0.7632,0.5054,0.4094,0.4808,0.4573,0.7059]\n",
            "1\n",
            "0.0000\n",
            "\n",
            "[0.7027,0.7191,0.6316,0.354 ,0.3976,0.3209,0.2513,0.6471]\n",
            "1\n",
            "0.0000\n",
            "\n",
            "[0.7477,0.7416,0.7632,0.354 ,0.333 ,0.3863,0.2764,0.3529]\n",
            "1\n",
            "0.0000\n",
            "\n"
          ]
        }
      ],
      "source": [
        "# Load evaluation data\n",
        "!curl -s https://raw.githubusercontent.com/cs472ta/CS472/master/datasets/seismic-bumps_train.arff --output evaldata.arff\n",
        "eval_data = arff.loadarff('evaldata.arff')\n",
        "eval_df = pd.DataFrame(eval_data[0])\n",
        "eval_df[\"Class\"] = eval_df[\"Class\"].astype(object).astype(int)\n",
        "eval_norm = np.array(normalize_data(eval_df))\n",
        "\n",
        "# Train on evaluation data using complete link\n",
        "clf = HACClustering(k=5, link_type='complete')\n",
        "res = clf.fit(debug_norm)\n",
        "res.score()\n",
        "\n",
        "# Print clusters\n",
        "res.print_clusters()\n"
      ]
    },
    {
      "cell_type": "code",
      "execution_count": 69,
      "metadata": {
        "id": "0Jh6vYeCXCRv"
      },
      "outputs": [
        {
          "name": "stdout",
          "output_type": "stream",
          "text": [
            "Num clusters: 5\n",
            "SSE score: 0.0000\n",
            "\n",
            "\n",
            "[0.5946,0.618 ,0.6053,0.2944,0.3165,0.275 ,0.2362,0.4706]\n",
            "1\n",
            "0.0000\n",
            "\n",
            "[0.6036,0.6292,0.5789,0.2437,0.259 ,0.2591,0.201 ,0.4118]\n",
            "1\n",
            "0.0000\n",
            "\n",
            "[0.8468,0.8315,0.7632,0.5054,0.4094,0.4808,0.4573,0.7059]\n",
            "1\n",
            "0.0000\n",
            "\n",
            "[0.7027,0.7191,0.6316,0.354 ,0.3976,0.3209,0.2513,0.6471]\n",
            "1\n",
            "0.0000\n",
            "\n",
            "[0.7477,0.7416,0.7632,0.354 ,0.333 ,0.3863,0.2764,0.3529]\n",
            "1\n",
            "0.0000\n",
            "\n"
          ]
        },
        {
          "name": "stderr",
          "output_type": "stream",
          "text": [
            "/var/folders/y9/rp3lsyjd533_jp_d_rbnbl9r0000gn/T/ipykernel_76073/1966718485.py:2: FutureWarning: Dropping of nuisance columns in DataFrame reductions (with 'numeric_only=None') is deprecated; in a future version this will raise TypeError.  Select only valid columns before calling the reduction.\n",
            "  xmin = inputs.min(axis=0)\n",
            "/var/folders/y9/rp3lsyjd533_jp_d_rbnbl9r0000gn/T/ipykernel_76073/1966718485.py:3: FutureWarning: Dropping of nuisance columns in DataFrame reductions (with 'numeric_only=None') is deprecated; in a future version this will raise TypeError.  Select only valid columns before calling the reduction.\n",
            "  xmax = inputs.max(axis=0)\n"
          ]
        }
      ],
      "source": [
        "# Train on evaluation data using single link\n",
        "!curl -s https://raw.githubusercontent.com/cs472ta/CS472/master/datasets/seismic-bumps_train.arff --output evaldata.arff\n",
        "eval_data = arff.loadarff('evaldata.arff')\n",
        "eval_np = np.array(eval_data[0])\n",
        "eval_norm = np.array(normalize_data(pd.DataFrame(eval_data)))\n",
        "\n",
        "# Print clusters\n",
        "res.score()\n",
        "res.print_clusters()"
      ]
    },
    {
      "cell_type": "markdown",
      "metadata": {
        "id": "-EOkBzaUXCRv"
      },
      "source": [
        "### 1.2.1 K-Means\n",
        "\n",
        "### Code requirements \n",
        "- Ability to choose k and specify k initial centroids\n",
        "- Use Euclidean Distance as metric\n",
        "- Ability to handle distance ties\n",
        "- Include output label as a cluster feature\n",
        "\n",
        "\n",
        "---\n",
        "The output should include the following:\n",
        "- The number of clusters (k).\n",
        "- The silhouette score of the full clustering. (You can either write and use your own silhouette_score function (extra credit) or use sklearn's)\n",
        "\n",
        "\n",
        "For each cluster report include:\n",
        "\n",
        "\n",
        "- The centroid id.\n",
        "- The number of instances tied to that centroid. \n",
        "---\n",
        "You only need to handle continuous features"
      ]
    },
    {
      "cell_type": "code",
      "execution_count": 70,
      "metadata": {
        "id": "J1KYATRKXCRv"
      },
      "outputs": [],
      "source": [
        "class KMEANSClustering(BaseEstimator,ClassifierMixin):\n",
        "\n",
        "    def __init__(self,k=3,debug=False): ## add parameters here\n",
        "        \"\"\"\n",
        "        Args:\n",
        "            k = how many final clusters to have\n",
        "            debug = if debug is true use the first k instances as the initial centroids otherwise choose random points as the initial centroids.\n",
        "        \"\"\"\n",
        "        self.k = k\n",
        "        self.debug = debug\n",
        "\n",
        "    def fit(self, X, y=None):\n",
        "        \"\"\" Fit the data; In this lab this will make the K clusters :D\n",
        "        Args:\n",
        "            X (array-like): A 2D numpy array with the training data\n",
        "            y (array-like): An optional argument. Clustering is usually unsupervised so you don't need labels\n",
        "        Returns:\n",
        "            self: this allows this to be chained, e.g. model.fit(X,y).predict(X_test)\n",
        "        \"\"\"\n",
        "        self.X = X\n",
        "        self.centroids = []\n",
        "        if not self.debug:\n",
        "            for i in range(self.k):\n",
        "                ind = random.randint(0, (len(X) - 1))\n",
        "                self.centroids.append(X[ind])\n",
        "        else:\n",
        "            self.centroids = X[:self.k]\n",
        "        self.clusters = [np.array([]) for k in range(self.k)]\n",
        "        is_done = False\n",
        "        while not is_done:\n",
        "            if not self.update_clusters(X):\n",
        "                is_done = True\n",
        "                break\n",
        "        return self\n",
        "\n",
        "    def update_centroids(self):\n",
        "        new_centroids = []\n",
        "        updated = False\n",
        "        for i, cluster in enumerate(self.clusters):\n",
        "            centroid = np.mean(cluster, axis=0)\n",
        "            if not np.array_equal(self.centroids[i], centroid):\n",
        "                updated = True\n",
        "            new_centroids.append(centroid)\n",
        "        self.centroids = new_centroids\n",
        "        return updated\n",
        "\n",
        "    def update_clusters(self, points):\n",
        "        self.clusters = [np.array([]) for k in range(self.k)]\n",
        "        # for each point see which centroid is closest\n",
        "        for i in range(len(points)):\n",
        "            # get shortest distance between centroids\n",
        "            min_val = np.inf\n",
        "            ind = 0\n",
        "            for j in range(len(self.centroids)):\n",
        "                dist = np.linalg.norm(points[i] - self.centroids[j])\n",
        "                if dist < min_val:\n",
        "                    min_val = dist\n",
        "                    ind = j\n",
        "            if len(self.clusters[ind]) == 0:\n",
        "                add = np.array([points[i]])\n",
        "                self.clusters[ind] = add\n",
        "            else:\n",
        "                original = self.clusters[ind]\n",
        "                original = np.append(original, np.array([points[i]]), axis=0)\n",
        "                self.clusters[ind] = original\n",
        "        \n",
        "        return self.update_centroids()\n",
        "    \n",
        "    def score(self):\n",
        "        self.sse = []\n",
        "        self.total_sse = 0\n",
        "        # find centroids\n",
        "        for i in range(len(self.clusters)):\n",
        "            # find cluster sse\n",
        "            tmp = np.linalg.norm(self.clusters[i] - self.centroids[i])\n",
        "            squared_err = tmp**2\n",
        "            self.sse.append(np.sum(squared_err))\n",
        "            self.total_sse += squared_err\n",
        "            \n",
        "    \n",
        "    def print_clusters(self):\n",
        "        \"\"\"\n",
        "            Used for grading.\n",
        "            print(\"Num clusters: {:d}\\n\".format(k))\n",
        "            print(\"Silhouette score: {:.4f}\\n\\n\".format(silhouette_score))\n",
        "            for each cluster and centroid:\n",
        "                print(np.array2string(centroid,precision=4,separator=\",\"))\n",
        "                print(\"{:d}\\n\".format(size of cluster))\n",
        "        \"\"\"\n",
        "        print(\"{:d}\".format(self.k))\n",
        "        print(\"{:.4f}\\n\".format(self.total_sse))\n",
        "        for i in range(len(self.clusters)):\n",
        "            print(np.array2string(self.centroids[i],precision=4,separator=\",\"))\n",
        "            print(\"{:d}\".format(len(self.clusters[i])))\n",
        "            print(\"{:.4f}\\n\".format(self.sse[i]))\n",
        "\n",
        "    def get_total_sse(self):\n",
        "        return self.total_sse\n"
      ]
    },
    {
      "cell_type": "markdown",
      "metadata": {
        "id": "VgGThkhwXCRv"
      },
      "source": [
        "### 1.2.2 Debug \n",
        "\n",
        "Debug your model by running it on the [Debug Dataset](https://raw.githubusercontent.com/cs472ta/CS472/master/datasets/abalone.arff)\n",
        "\n",
        "\n",
        "- Train until convergence\n",
        "- Make sure to include the output class (last column) as an additional input feature\n",
        "- Normalize Data\n",
        "- K = 5\n",
        "- Use the first k instances as the initial centroids\n",
        "- Use 4 decimal places and DO NOT ROUND when reporting silhouette score and centroid values\n",
        "\n",
        "\n",
        "\n",
        "\n",
        "---\n",
        "Solutions in files:\n",
        "\n",
        "[Debug K Means (Silhouette).txt](https://raw.githubusercontent.com/cs472ta/CS472/master/debug_solutions/Debug%20K%20Means%20%28Silhouette%29.txt)"
      ]
    },
    {
      "cell_type": "code",
      "execution_count": 71,
      "metadata": {
        "id": "KgAyy82gixIF"
      },
      "outputs": [
        {
          "name": "stdout",
          "output_type": "stream",
          "text": [
            "5\n",
            "10.1198\n",
            "\n",
            "[0.7412,0.744 ,0.6451,0.4057,0.3751,0.403 ,0.3372,0.6248]\n",
            "37\n",
            "1.9752\n",
            "\n",
            "[0.2684,0.2481,0.2001,0.0569,0.0587,0.0622,0.0497,0.161 ]\n",
            "38\n",
            "1.8647\n",
            "\n",
            "[0.72  ,0.7153,0.6047,0.3569,0.3451,0.3964,0.2782,0.3755]\n",
            "47\n",
            "1.9265\n",
            "\n",
            "[0.5416,0.5346,0.4095,0.1921,0.1931,0.2007,0.1523,0.3075]\n",
            "57\n",
            "1.7480\n",
            "\n",
            "[0.9193,0.9208,0.7895,0.6805,0.6006,0.6452,0.6045,0.7059]\n",
            "21\n",
            "2.6054\n",
            "\n"
          ]
        }
      ],
      "source": [
        "# Load debug data\n",
        "!curl -s https://raw.githubusercontent.com/cs472ta/CS472/master/datasets/abalone.arff --output debug.arff\n",
        "# Train on training set\n",
        "debug_data = arff.loadarff('debug.arff')\n",
        "debug_np = np.array(debug_data[0])\n",
        "debug_norm = np.array(normalize_data(pd.DataFrame(debug_np)))\n",
        "\n",
        "# Train on debug data\n",
        "clf = KMEANSClustering(k=5)\n",
        "res = clf.fit(debug_norm)\n",
        "res.score()\n",
        "\n",
        "# Print clusters\n",
        "res.print_clusters()"
      ]
    },
    {
      "cell_type": "markdown",
      "metadata": {
        "id": "Jh507BaLXCRw"
      },
      "source": [
        "### 1.2.3 Evaluation\n",
        "\n",
        "We will evaluate your model based on its print_clusters() output using [Evaluation Dataset](https://raw.githubusercontent.com/cs472ta/CS472/master/datasets/seismic-bumps_train.arff)\n",
        "- Train until convergence\n",
        "- Make sure to include the output class (last column) as an additional input feature\n",
        "- Normalize Data\n",
        "- K = 5\n",
        "- Use the first k instances as the initial centroids\n",
        "- Use 4 decimal places and DO NOT ROUND when reporting silhouette score and centroid values"
      ]
    },
    {
      "cell_type": "code",
      "execution_count": 72,
      "metadata": {
        "id": "EGZwBrplXCRx"
      },
      "outputs": [
        {
          "name": "stdout",
          "output_type": "stream",
          "text": [
            "5\n",
            "18.4887\n",
            "\n",
            "[0.714 ,0.7588,0.5603,0.7028,0.6994,0.4864,0.7393,1.    ]\n",
            "70\n",
            "12.4291\n",
            "\n",
            "[0.4587,0.5015,0.6199,0.4597,0.5058,0.1871,0.3811,0.    ]\n",
            "16\n",
            "1.1890\n",
            "\n",
            "[0.2898,0.3224,0.6338,0.2832,0.3529,0.3438,0.2314,0.    ]\n",
            "21\n",
            "1.3267\n",
            "\n",
            "[0.2297,0.2969,0.3291,0.3158,0.1971,0.2899,0.257 ,0.    ]\n",
            "27\n",
            "2.8881\n",
            "\n",
            "[0.3688,0.4012,0.6757,0.3497,0.4207,0.7421,0.2812,0.    ]\n",
            "6\n",
            "0.6557\n",
            "\n"
          ]
        }
      ],
      "source": [
        "# Load evaluation data\n",
        "!curl -s https://raw.githubusercontent.com/cs472ta/CS472/master/datasets/seismic-bumps_train.arff --output k_evaldata.arff\n",
        "k_eval_data = arff.loadarff('k_evaldata.arff')\n",
        "k_eval_df = pd.DataFrame(k_eval_data[0])\n",
        "k_eval_df[\"Class\"] = k_eval_df[\"Class\"].astype(object).astype(int)\n",
        "k_eval_norm = np.array(normalize_data(k_eval_df))\n",
        "clf = KMEANSClustering(k=5)\n",
        "\n",
        "# Train on evaluation data\n",
        "res = clf.fit(k_eval_norm)\n",
        "res.score()\n",
        "\n",
        "# Print clusters\n",
        "res.print_clusters()"
      ]
    },
    {
      "cell_type": "markdown",
      "metadata": {
        "id": "9vWiTdlbR2Xh"
      },
      "source": [
        "## 2.1.1 (7.5%) Clustering the Iris Classification problem - HAC\n",
        "\n",
        "Load the Iris Dataset [Iris Dataset](https://raw.githubusercontent.com/cs472ta/CS472/master/datasets/iris.arff)\n",
        "\n",
        "- Use single-link and complete link clustering algorithms\n",
        "- State whether you normalize your data or not (your choice).  \n",
        "- Show your results for clusterings using k = 2-7.  \n",
        "- Graph the silhouette score for each k and discuss your results (i.e. what kind of clusters are being made).\n",
        "---"
      ]
    },
    {
      "cell_type": "code",
      "execution_count": 73,
      "metadata": {
        "id": "4SSoasDQSKXb"
      },
      "outputs": [
        {
          "name": "stderr",
          "output_type": "stream",
          "text": [
            "/Users/alexheiner/Desktop/Fall2021/CS472/CS472-Labs/.venv/lib/python3.9/site-packages/numpy/lib/function_base.py:4454: VisibleDeprecationWarning: Creating an ndarray from ragged nested sequences (which is a list-or-tuple of lists-or-tuples-or ndarrays with different lengths or shapes) is deprecated. If you meant to do this, you must specify 'dtype=object' when creating the ndarray.\n",
            "  arr = asarray(arr)\n"
          ]
        },
        {
          "name": "stdout",
          "output_type": "stream",
          "text": [
            "Num clusters: 5\n",
            "SSE score: 0.1028\n",
            "\n",
            "\n",
            "[0.0694,0.0911,0.0289,0.014 ]\n",
            "49\n",
            "0.0076\n",
            "\n",
            "[0.0623,0.0609,0.0256,0.0173]\n",
            "1\n",
            "0.0000\n",
            "\n",
            "[0.0864,0.0756,0.0959,0.0959]\n",
            "97\n",
            "0.0951\n",
            "\n",
            "[0.0678,0.0662,0.0885,0.0978]\n",
            "1\n",
            "0.0000\n",
            "\n",
            "[0.1079,0.1006,0.1289,0.1208]\n",
            "2\n",
            "0.0001\n",
            "\n"
          ]
        }
      ],
      "source": [
        "# Iris Classification using single-link\n",
        "!curl -s https://raw.githubusercontent.com/cs472ta/CS472/master/datasets/iris.arff --output iris.arff\n",
        "iris_data = arff.loadarff('iris.arff')\n",
        "iris_df = pd.DataFrame(iris_data[0])\n",
        "iris_df = iris_df.iloc[: , :-1]\n",
        "iris_norm = preprocessing.normalize(iris_df, axis=0)\n",
        "\n",
        "clf = HACClustering(k=5, link_type='single')\n",
        "res = clf.fit(iris_norm)\n",
        "res.score()\n",
        "\n",
        "# Print clusters\n",
        "res.print_clusters()"
      ]
    },
    {
      "cell_type": "code",
      "execution_count": 74,
      "metadata": {
        "id": "-lcM9J9JXCRx"
      },
      "outputs": [
        {
          "name": "stderr",
          "output_type": "stream",
          "text": [
            "/Users/alexheiner/Desktop/Fall2021/CS472/CS472-Labs/.venv/lib/python3.9/site-packages/numpy/lib/function_base.py:4454: VisibleDeprecationWarning: Creating an ndarray from ragged nested sequences (which is a list-or-tuple of lists-or-tuples-or ndarrays with different lengths or shapes) is deprecated. If you meant to do this, you must specify 'dtype=object' when creating the ndarray.\n",
            "  arr = asarray(arr)\n"
          ]
        },
        {
          "name": "stdout",
          "output_type": "stream",
          "text": [
            "Num clusters: 5\n",
            "SSE score: 0.0000\n",
            "\n",
            "\n",
            "[0.0927,0.0794,0.1023,0.1323]\n",
            "1\n",
            "0.0000\n",
            "\n",
            "[0.0872,0.0662,0.0984,0.1093]\n",
            "1\n",
            "0.0000\n",
            "\n",
            "[0.0899,0.0794,0.1023,0.115 ]\n",
            "1\n",
            "0.0000\n",
            "\n",
            "[0.0858,0.09  ,0.1063,0.1323]\n",
            "1\n",
            "0.0000\n",
            "\n",
            "[0.0816,0.0794,0.1003,0.1035]\n",
            "1\n",
            "0.0000\n",
            "\n"
          ]
        }
      ],
      "source": [
        "# Iris Classification using complete-link\n",
        "!curl -s https://raw.githubusercontent.com/cs472ta/CS472/master/datasets/iris.arff --output iris.arff\n",
        "iris_data = arff.loadarff('iris.arff')\n",
        "iris_df = pd.DataFrame(iris_data[0])\n",
        "iris_df = iris_df.iloc[: , :-1]\n",
        "iris_norm = preprocessing.normalize(iris_df, axis=0)\n",
        "clf = HACClustering(k=5, link_type='complete')\n",
        "res = clf.fit(iris_norm)\n",
        "res.score()\n",
        "\n",
        "# Print clusters\n",
        "res.print_clusters()"
      ]
    },
    {
      "cell_type": "markdown",
      "metadata": {
        "id": "ev90JsvjXCRy"
      },
      "source": [
        "Discuss differences between single-link and complete-link"
      ]
    },
    {
      "cell_type": "markdown",
      "metadata": {
        "id": "myLp3nhOXCRy"
      },
      "source": [
        "## 2.2.1 (7.5%) Clustering the Iris Classification problem: K-Means\n",
        "\n",
        "Load the Iris Dataset [Iris Dataset](https://raw.githubusercontent.com/cs472ta/CS472/master/datasets/iris.arff)\n",
        "\n",
        "Run K-Means on the Iris dataset using the output label as a feature and without using the output label as a feature\n",
        "\n",
        "Requirements:\n",
        "- State whether you normalize your data or not (your choice).  \n",
        "- Show your results for clusterings using k = 2-7.  \n",
        "- Graph the silhouette score for each k and discuss your results (i.e. what kind of clusters are being made).\n",
        "---"
      ]
    },
    {
      "cell_type": "code",
      "execution_count": 75,
      "metadata": {},
      "outputs": [],
      "source": [
        "# plot graphs\n",
        "def plot_sse(k_vals, sse, heading):\n",
        "  plt.plot(k_vals, sse)\n",
        "  plt.title(heading + \" Iris SSE for k: 2-7\")\n",
        "  plt.xlabel(\"K value\")\n",
        "  plt.ylabel(\"SSE\")\n",
        "  plt.show()\n",
        "  print(sse)"
      ]
    },
    {
      "cell_type": "code",
      "execution_count": 76,
      "metadata": {
        "id": "XcWCgFb4XCRz"
      },
      "outputs": [
        {
          "data": {
            "image/png": "[encoded data removed]",
            "text/plain": [
              "<Figure size 432x288 with 1 Axes>"
            ]
          },
          "metadata": {
            "needs_background": "light"
          },
          "output_type": "display_data"
        },
        {
          "name": "stdout",
          "output_type": "stream",
          "text": [
            "[0.10980384035289965, 0.04618174298176431, 0.03482803618364082, 0.0289237755730679, 0.02977662536201614, 0.022367422329190263]\n"
          ]
        }
      ],
      "source": [
        "# Iris Classification without output label\n",
        "!curl -s https://raw.githubusercontent.com/cs472ta/CS472/master/datasets/iris.arff --output iris.arff\n",
        "iris_data = arff.loadarff('iris.arff')\n",
        "iris_df = pd.DataFrame(iris_data[0])\n",
        "iris_df = iris_df.iloc[: , :-1]\n",
        "iris_norm = preprocessing.normalize(iris_df, axis=0)\n",
        "\n",
        "sse = []\n",
        "k_vals = [2,3,4,5,6,7]\n",
        "for k_val in k_vals:\n",
        "  clf = KMEANSClustering(k=k_val, debug=False)\n",
        "\n",
        "  # Train on evaluation data\n",
        "  res = clf.fit(iris_norm)\n",
        "  res.score()\n",
        "  sse.append(res.get_total_sse())\n",
        "\n",
        "plot_sse(k_vals, sse, \"K means\")"
      ]
    },
    {
      "cell_type": "code",
      "execution_count": 96,
      "metadata": {
        "id": "i62njzqqXCRz"
      },
      "outputs": [
        {
          "name": "stderr",
          "output_type": "stream",
          "text": [
            "/Users/alexheiner/Desktop/Fall2021/CS472/CS472-Labs/.venv/lib/python3.9/site-packages/numpy/lib/function_base.py:4454: VisibleDeprecationWarning: Creating an ndarray from ragged nested sequences (which is a list-or-tuple of lists-or-tuples-or ndarrays with different lengths or shapes) is deprecated. If you meant to do this, you must specify 'dtype=object' when creating the ndarray.\n",
            "  arr = asarray(arr)\n"
          ]
        },
        {
          "data": {
            "image/png": "[encoded data removed]",
            "text/plain": [
              "<Figure size 432x288 with 1 Axes>"
            ]
          },
          "metadata": {
            "needs_background": "light"
          },
          "output_type": "display_data"
        },
        {
          "name": "stdout",
          "output_type": "stream",
          "text": [
            "[0.10980384035289965, 0.10429907070323602, 0.10381057328879512, 0.10284559471343886, 0.09944780662592966, 0.09755778498432849]\n"
          ]
        },
        {
          "data": {
            "image/png": "[encoded data removed]",
            "text/plain": [
              "<Figure size 432x288 with 1 Axes>"
            ]
          },
          "metadata": {
            "needs_background": "light"
          },
          "output_type": "display_data"
        },
        {
          "name": "stdout",
          "output_type": "stream",
          "text": [
            "[0.0, 0.0, 0.0, 0.0, 0.0, 0.0]\n"
          ]
        }
      ],
      "source": [
        "# Iris Classification with output label\n",
        "!curl -s https://raw.githubusercontent.com/cs472ta/CS472/master/datasets/iris.arff --output iris.arff\n",
        "iris_data = arff.loadarff('iris.arff')\n",
        "iris_df = pd.DataFrame(iris_data[0])\n",
        "iris_df = iris_df.iloc[: , :-1]\n",
        "iris_norm = preprocessing.normalize(iris_df, axis=0)\n",
        "\n",
        "s_sse = []\n",
        "c_sse = []\n",
        "k_vals = [2,3,4,5,6,7]\n",
        "for k_val in k_vals:\n",
        "  # fit and score with single link\n",
        "  s_clf = HACClustering(k=k_val, link_type='single')\n",
        "  res = s_clf.fit(iris_norm)\n",
        "  res.score()\n",
        "  s_sse.append(res.get_total_sse())\n",
        "  # fit and score with complete link\n",
        "  c_clf = HACClustering(k=k_val, link_type='complete')\n",
        "  res = c_clf.fit(iris_norm)\n",
        "  res.score()\n",
        "  c_sse.append(res.get_total_sse())\n",
        "\n",
        "plot_sse(k_vals, s_sse, \"HAC Single Link\")\n",
        "plot_sse(k_vals, c_sse, \"HAC Complete Link\")"
      ]
    },
    {
      "cell_type": "markdown",
      "metadata": {
        "id": "n6Zw0eAOXCRz"
      },
      "source": [
        "Compare results and differences between using the output label and excluding the output label"
      ]
    },
    {
      "cell_type": "markdown",
      "metadata": {
        "id": "aDdAadpVXCRz"
      },
      "source": [
        "## 2.2.2 (5%) Clustering the Iris Classification problem: K-Means\n",
        "\n",
        "Requirements:\n",
        "- Use the output label as an input feature\n",
        "- Run K-Means 5 times with k=4, each time with different initial random centroids and discuss any variations in the results. "
      ]
    },
    {
      "cell_type": "code",
      "execution_count": null,
      "metadata": {
        "id": "P3r8kad0XCRz"
      },
      "outputs": [
        {
          "data": {
            "image/png": "[encoded data removed]",
            "text/plain": [
              "<Figure size 432x288 with 1 Axes>"
            ]
          },
          "metadata": {
            "needs_background": "light"
          },
          "output_type": "display_data"
        },
        {
          "name": "stdout",
          "output_type": "stream",
          "text": [
            "[0.03484681985520592, 0.03484681985520592, 0.10507579772368404, 0.03484681985520592, 0.04258118142864269]\n"
          ]
        }
      ],
      "source": [
        "#K-Means 5 times\n",
        "!curl -s https://raw.githubusercontent.com/cs472ta/CS472/master/datasets/iris.arff --output iris.arff\n",
        "iris_data = arff.loadarff('iris.arff')\n",
        "iris_df = pd.DataFrame(iris_data[0])\n",
        "iris_df = iris_df.iloc[: , :-1]\n",
        "iris_norm = preprocessing.normalize(iris_df, axis=0)\n",
        "\n",
        "sse = []\n",
        "for i in range(5):\n",
        "  clf = KMEANSClustering(k=4, debug=False)\n",
        "\n",
        "  res = clf.fit(iris_norm)\n",
        "  res.score()\n",
        "  sse.append(res.get_total_sse())\n",
        "\n",
        "plt.plot(sse)\n",
        "plt.title(\"K means Iris SSE for k=4\")\n",
        "plt.xlabel(\"K value\")\n",
        "plt.ylabel(\"SSE\")\n",
        "plt.show()\n",
        "print(sse)"
      ]
    },
    {
      "cell_type": "markdown",
      "metadata": {
        "id": "G9_mLwXZXCRz"
      },
      "source": [
        "Discuss any variations in the results"
      ]
    },
    {
      "cell_type": "markdown",
      "metadata": {
        "id": "oBBmeNQ7jvcQ"
      },
      "source": [
        "## 3.1 (12.5%) Run the SK versions of HAC (both single and complete link) on iris including the output label and compare your results with those above.\n",
        "Use the silhouette score for this iris problem(k = 2-7).  You may write your own code to do silhouette (optional extra credit) or you can use sklearn.metrics.silhouette_score. Please state if you coded your own silhouette score function to receive the extra credit points (described below). Discuss how helpful Silhouette appeared to be for selecting which clustering is best. You do not need to supply full Silhouette graphs, but you could if you wanted to.\n",
        "\n",
        "Requirements\n",
        "- Use the Sillhouette score for this iris problem (k= 2-7) \n",
        "- Use at least one other scoring function from [sklearn.metrics](https://scikit-learn.org/stable/modules/model_evaluation.html) and compare the results. State which metric was used. \n",
        "- Possible sklean metrics include (* metrics require ground truth labels):\n",
        "    - adjusted_mutual_info_score*\n",
        "    - adjusted_rand_score*\n",
        "    - homogeneity_score*\n",
        "    - completeness_score*\n",
        "    - fowlkes_mallows_score*\n",
        "    - calinski_harabasz_score\n",
        "    - davies_bouldin_score\n",
        "- Experiment using different hyper-parameters. Discuss Results"
      ]
    },
    {
      "cell_type": "code",
      "execution_count": 79,
      "metadata": {
        "id": "OFQv70W2VyqJ"
      },
      "outputs": [
        {
          "name": "stdout",
          "output_type": "stream",
          "text": [
            "HAC COMPLETE LINK\n",
            "0.6957719217135483\n",
            "0.6032849781959182\n",
            "0.45892461165231024\n",
            "0.3742451477928858\n",
            "0.3534482219206272\n",
            "0.35541229116697964\n",
            "HAC SINGLE LINK\n",
            "0.6957719217135483\n",
            "0.4401768601442156\n",
            "0.16995245252073954\n",
            "0.04470059011071785\n",
            "0.042732175331867135\n",
            "0.012981554986617306\n",
            "K MEANS\n",
            "0.6957719217135483\n",
            "0.6032849781959182\n",
            "0.5165346046340662\n",
            "0.48657389698311077\n",
            "0.34484187680527206\n",
            "0.3491284188100415\n"
          ]
        }
      ],
      "source": [
        "# Load sklearn\n",
        "\n",
        "\n",
        "!curl -s https://raw.githubusercontent.com/cs472ta/CS472/master/datasets/iris.arff --output iris.arff\n",
        "iris_data = arff.loadarff('iris.arff')\n",
        "iris_df = pd.DataFrame(iris_data[0])\n",
        "iris_df = iris_df.iloc[: , :-1]\n",
        "iris_norm = preprocessing.normalize(iris_df, axis=0)\n",
        "\n",
        "print('HAC COMPLETE LINK')\n",
        "for i in range(2,8):\n",
        "  clustering = AgglomerativeClustering(n_clusters=i, linkage='complete')\n",
        "  clustering.fit_predict(iris_norm)\n",
        "  print(silhouette_score(iris_norm, clustering.labels_, metric='euclidean'))\n",
        "  \n",
        "print('HAC SINGLE LINK')\n",
        "for i in range(2,8):\n",
        "  clustering = AgglomerativeClustering(n_clusters=i, linkage='single')\n",
        "  clustering.fit_predict(iris_norm)\n",
        "  print(silhouette_score(iris_norm, clustering.labels_, metric='euclidean'))\n",
        "\n",
        "print('K MEANS')\n",
        "for i in range(2,8):\n",
        "  km = KMeans(n_clusters=i, random_state=42)\n",
        "  km.fit_predict(iris_norm)\n",
        "  print(silhouette_score(iris_norm, km.labels_, metric='euclidean'))\n",
        "# for i in range(2,8):\n",
        "\n"
      ]
    },
    {
      "cell_type": "markdown",
      "metadata": {
        "id": "BqSFAXwlk3Ms"
      },
      "source": [
        "*Record impressions*"
      ]
    },
    {
      "cell_type": "markdown",
      "metadata": {
        "id": "5OWeycyLXCR0"
      },
      "source": [
        "## 3.2 (12.5%) Run the SK version of k-means on iris including the output label and compare your results with those above. \n",
        "\n",
        "Use the silhouette score for this iris problem(k = 2-7). You may write your own code to do silhouette (optional extra credit) or you can use sklearn.metrics.silhouette_score. Please state if you coded your own silhouette score function to receive the extra credit points (described below). Discuss how helpful Silhouette appeared to be for selecting which clustering is best. You do not need to supply full Silhouette graphs, but you could if you wanted to.\n",
        "\n",
        "Requirements\n",
        "- Use the Sillhouette score for this iris problem (k= 2-7) \n",
        "- Use at least one other scoring function form sklearn.metrics and compare the results. State which metric was used\n",
        "- Experiment different hyper-parameters. Discuss Results"
      ]
    },
    {
      "cell_type": "code",
      "execution_count": 80,
      "metadata": {
        "id": "H5IGOeXUXCR0"
      },
      "outputs": [
        {
          "name": "stdout",
          "output_type": "stream",
          "text": [
            "HAC SINGLE LINK\n",
            "0.693605009926137\n",
            "K MEANS\n",
            "0.24095566579885236\n"
          ]
        }
      ],
      "source": [
        "# Load sklearn \n",
        "from sklearn import datasets\n",
        "cancer_data = datasets.load_breast_cancer()\n",
        "X = cancer_data.data\n",
        "print('HAC SINGLE LINK')\n",
        "clustering = AgglomerativeClustering(n_clusters=5, linkage='single')\n",
        "clustering.fit_predict(X)\n",
        "print(silhouette_score(X, clustering.labels_, metric='euclidean'))\n",
        "\n",
        "print('K MEANS')\n",
        "km = KMeans(n_clusters=200, random_state=42)\n",
        "km.fit_predict(X)\n",
        "print(silhouette_score(X, km.labels_, metric='euclidean'))\n"
      ]
    },
    {
      "cell_type": "markdown",
      "metadata": {
        "id": "2SFIDtKEXCR0"
      },
      "source": [
        "*Record impressions*"
      ]
    },
    {
      "cell_type": "markdown",
      "metadata": {
        "id": "cTlK-kijk8Mg"
      },
      "source": [
        "## 4. (Optional 5% extra credit) For your silhouette experiment above, write and use your own code to calculate the silhouette scores, rather than the SK or other version. \n"
      ]
    },
    {
      "cell_type": "markdown",
      "metadata": {
        "id": "Gi1o5tX6XCR1"
      },
      "source": [
        "*Show findings here*"
      ]
    },
    {
      "cell_type": "code",
      "execution_count": 81,
      "metadata": {
        "id": "jrczoZSXXCR1"
      },
      "outputs": [],
      "source": [
        "# Copy function Below"
      ]
    }
  ],
  "metadata": {
    "colab": {
      "collapsed_sections": [],
      "name": "lab 1 - perceptron",
      "provenance": []
    },
    "kernelspec": {
      "display_name": "Python 3",
      "language": "python",
      "name": "python3"
    },
    "language_info": {
      "codemirror_mode": {
        "name": "ipython",
        "version": 3
      },
      "file_extension": ".py",
      "mimetype": "text/x-python",
      "name": "python",
      "nbconvert_exporter": "python",
      "pygments_lexer": "ipython3",
      "version": "3.9.2"
    }
  },
  "nbformat": 4,
  "nbformat_minor": 0
}
